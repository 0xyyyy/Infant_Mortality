{
 "cells": [
  {
   "cell_type": "code",
   "execution_count": 1,
   "metadata": {},
   "outputs": [],
   "source": [
    "import csv\n",
    "import pandas as pd \n",
    "import sqlite3"
   ]
  },
  {
   "cell_type": "code",
   "execution_count": 2,
   "metadata": {},
   "outputs": [],
   "source": [
    "db_file = \"db2.sqlite\""
   ]
  },
  {
   "cell_type": "code",
   "execution_count": 23,
   "metadata": {
    "tags": []
   },
   "outputs": [
    {
     "output_type": "stream",
     "name": "stdout",
     "text": "Table created successfully........\n"
    }
   ],
   "source": [
    "conn = sqlite3.connect(db_file)\n",
    "\n",
    "#Creating a cursor object using the cursor() method\n",
    "cursor = conn.cursor()\n",
    "\n",
    "#Dropping INFANT_MORTALITY table if already exists.\n",
    "# cursor.execute(\"DROP TABLE IF EXISTS birthweight\")\n",
    "\n",
    "#Creating table as per requirement\n",
    "sql ='''CREATE TABLE birthweight( \n",
    "   ID INT PRIMARY KEY,\n",
    "   YEAR INT,\n",
    "   STATE CHAR(2),\n",
    "   RATE INT,\n",
    "   DEATHS INT,\n",
    "   URL CHAR(255)\n",
    ")'''\n",
    "cursor.execute(sql)\n",
    "print(\"Table created successfully........\")\n",
    "\n",
    "# Commit your changes in the database\n",
    "conn.commit()\n",
    "\n",
    "#Closing the connection\n",
    "conn.close()"
   ]
  },
  {
   "cell_type": "code",
   "execution_count": 24,
   "metadata": {
    "tags": []
   },
   "outputs": [
    {
     "output_type": "stream",
     "name": "stdout",
     "text": "Table created successfully........\n"
    }
   ],
   "source": [
    "conn = sqlite3.connect(db_file)\n",
    "\n",
    "#Creating a cursor object using the cursor() method\n",
    "cursor = conn.cursor()\n",
    "\n",
    "#Dropping INFANT_MORTALITY table if already exists.\n",
    "# cursor.execute(\"DROP TABLE IF EXISTS teen\")\n",
    "\n",
    "#Creating table as per requirement\n",
    "sql ='''CREATE TABLE teen( \n",
    "   ID INT PRIMARY KEY,\n",
    "   YEAR INT,\n",
    "   STATE CHAR(2),\n",
    "   RATE INT,\n",
    "   DEATHS INT,\n",
    "   URL CHAR(255)\n",
    ")'''\n",
    "cursor.execute(sql)\n",
    "print(\"Table created successfully........\")\n",
    "\n",
    "# Commit your changes in the database\n",
    "conn.commit()\n",
    "\n",
    "#Closing the connection\n",
    "conn.close()"
   ]
  },
  {
   "cell_type": "code",
   "execution_count": 25,
   "metadata": {
    "tags": []
   },
   "outputs": [
    {
     "output_type": "stream",
     "name": "stdout",
     "text": "Table created successfully........\n"
    }
   ],
   "source": [
    "conn = sqlite3.connect(db_file)\n",
    "\n",
    "#Creating a cursor object using the cursor() method\n",
    "cursor = conn.cursor()\n",
    "\n",
    "#Dropping INFANT_MORTALITY table if already exists.\n",
    "# cursor.execute(\"DROP TABLE IF EXISTS unmarried\")\n",
    "\n",
    "#Creating table as per requirement\n",
    "sql ='''CREATE TABLE unmarried( \n",
    "   ID INT PRIMARY KEY,\n",
    "   YEAR INT,\n",
    "   STATE CHAR(2),\n",
    "   RATE INT,\n",
    "   DEATHS INT,\n",
    "   URL CHAR(255)\n",
    ")'''\n",
    "cursor.execute(sql)\n",
    "print(\"Table created successfully........\")\n",
    "\n",
    "# Commit your changes in the database\n",
    "conn.commit()\n",
    "\n",
    "#Closing the connection\n",
    "conn.close()"
   ]
  },
  {
   "cell_type": "code",
   "execution_count": 26,
   "metadata": {
    "tags": []
   },
   "outputs": [
    {
     "output_type": "stream",
     "name": "stdout",
     "text": "Table created successfully........\n"
    }
   ],
   "source": [
    "conn = sqlite3.connect(db_file)\n",
    "\n",
    "#Creating a cursor object using the cursor() method\n",
    "cursor = conn.cursor()\n",
    "\n",
    "#Dropping INFANT_MORTALITY table if already exists.\n",
    "# cursor.execute(\"DROP TABLE IF EXISTS infant\")\n",
    "\n",
    "#Creating table as per requirement\n",
    "sql ='''CREATE TABLE infant( \n",
    "   ID INT PRIMARY KEY,\n",
    "   YEAR INT,\n",
    "   STATE CHAR(2),\n",
    "   RATE INT,\n",
    "   DEATHS INT,\n",
    "   URL CHAR(255)\n",
    ")'''\n",
    "cursor.execute(sql)\n",
    "print(\"Table created successfully........\")\n",
    "\n",
    "# Commit your changes in the database\n",
    "conn.commit()\n",
    "\n",
    "#Closing the connection\n",
    "conn.close()"
   ]
  },
  {
   "cell_type": "code",
   "execution_count": 27,
   "metadata": {},
   "outputs": [],
   "source": [
    "lowweight_df = pd.read_csv(\"Low Birthweight by State.csv\")\n",
    "lowweight_df.insert(0, \"ID\", range(0, len(infant_df)))\n",
    "\n",
    "teenbirth_df = pd.read_csv(\"Teen Birth Rate by State.csv\")\n",
    "teenbirth_df.insert(0, \"ID\", range(0, len(infant_df)))\n",
    "\n",
    "unmarried_df = pd.read_csv(\"Unmarried Mothers by State.csv\")\n",
    "unmarried_df.insert(0, \"ID\", range(0, len(infant_df)))\n",
    "\n",
    "infant_df = pd.read_csv(\"Infant_Mortality_Rates_by_State.csv\")\n",
    "infant_df.insert(0, \"ID\", range(0, len(infant_df)))"
   ]
  },
  {
   "cell_type": "code",
   "execution_count": 28,
   "metadata": {},
   "outputs": [],
   "source": [
    "conn = sqlite3.connect(db_file)"
   ]
  },
  {
   "cell_type": "code",
   "execution_count": 29,
   "metadata": {},
   "outputs": [],
   "source": [
    "infant_df.to_sql(\"infant\", conn, if_exists='append', index=False)\n",
    "teenbirth_df.to_sql(\"teen\", conn, if_exists='append', index=False)\n",
    "unmarried_df.to_sql(\"unmarried\", conn, if_exists='append', index=False)\n",
    "lowweight_df.to_sql(\"birthweight\", conn, if_exists='append', index=False)"
   ]
  },
  {
   "cell_type": "code",
   "execution_count": 30,
   "metadata": {},
   "outputs": [],
   "source": [
    "cursor = conn.cursor()\n",
    "cursor.execute(\"SELECT * FROM birthweight;\")\n",
    "\n",
    "conn.commit()\n",
    "conn.close()"
   ]
  },
  {
   "cell_type": "code",
   "execution_count": 33,
   "metadata": {
    "tags": []
   },
   "outputs": [
    {
     "output_type": "stream",
     "name": "stdout",
     "text": "(0, 2018, 'AL', 10.7, None, '/nchs/pressroom/states/alabama/alabama.htm')\n(1, 2018, 'AK', 5.9, None, '/nchs/pressroom/states/alaska/alaska.htm')\n(2, 2018, 'AZ', 7.6, None, '/nchs/pressroom/states/arizona/arizona.htm')\n(3, 2018, 'AR', 9.4, None, '/nchs/pressroom/states/arkansas/arkansas.htm')\n(4, 2018, 'CA', 7, None, '/nchs/pressroom/states/california/california.htm')\n(5, 2018, 'CO', 9.4, None, '/nchs/pressroom/states/colorado/colorado.htm')\n(6, 2018, 'CT', 7.6, None, '/nchs/pressroom/states/connecticut/connecticut.htm')\n(7, 2018, 'DE', 8.9, None, '/nchs/pressroom/states/delaware/delaware.htm')\n(8, 2018, 'FL', 8.7, None, '/nchs/pressroom/states/florida/florida.htm')\n(9, 2018, 'GA', 10.1, None, '/nchs/pressroom/states/georgia/georgia.htm')\n(10, 2018, 'HI', 8.3, None, '/nchs/pressroom/states/hawaii/hawaii.htm')\n(11, 2018, 'ID', 7.3, None, '/nchs/pressroom/states/idaho/idaho.htm')\n(12, 2018, 'IL', 8.5, None, '/nchs/pressroom/states/illinois/illinois.htm')\n(13, 2018, 'IN', 8.1, None, '/nchs/pressroom/states/indiana/indiana.htm')\n(14, 2018, 'IA', 6.9, None, '/nchs/pressroom/states/iowa/iowa.htm')\n(15, 2018, 'KS', 7.4, None, '/nchs/pressroom/states/kansas/kansas.htm')\n(16, 2018, 'KY', 8.9, None, '/nchs/pressroom/states/kentucky/kentucky.htm')\n(17, 2018, 'LA', 10.8, None, '/nchs/pressroom/states/louisiana/louisiana.htm')\n(18, 2018, 'ME', 7.2, None, '/nchs/pressroom/states/maine/maine.htm')\n(19, 2018, 'MD', 8.8, None, '/nchs/pressroom/states/maryland/maryland.htm')\n(20, 2018, 'MA', 7.6, None, '/nchs/pressroom/states/massachusetts/massachusetts.htm')\n(21, 2018, 'MI', 8.5, None, '/nchs/pressroom/states/michigan/michigan.htm')\n(22, 2018, 'MN', 6.9, None, '/nchs/pressroom/states/minnesota/minnesota.htm')\n(23, 2018, 'MS', 12.1, None, '/nchs/pressroom/states/mississippi/mississippi.htm')\n(24, 2018, 'MO', 8.7, None, '/nchs/pressroom/states/missouri/missouri.htm')\n(25, 2018, 'MT', 7.4, None, '/nchs/pressroom/states/montana/montana.htm')\n(26, 2018, 'NE', 7.6, None, '/nchs/pressroom/states/nebraska/nebraska.htm')\n(27, 2018, 'NV', 8.7, None, '/nchs/pressroom/states/nevada/nevada.htm')\n(28, 2018, 'NH', 6.8, None, '/nchs/pressroom/states/newhampshire/newhampshire.htm')\n(29, 2018, 'NJ', 7.9, None, '/nchs/pressroom/states/newjersey/newjersey.htm')\n(30, 2018, 'NM', 9, None, '/nchs/pressroom/states/newmexico/newmexico.htm')\n(31, 2018, 'NY', 8.1, None, '/nchs/pressroom/states/newyork/newyork.htm')\n(32, 2018, 'NC', 9.2, None, '/nchs/pressroom/states/northcarolina/northcarolina.htm')\n(33, 2018, 'ND', 6.6, None, '/nchs/pressroom/states/northdakota/northdakota.htm')\n(34, 2018, 'OH', 8.5, None, '/nchs/pressroom/states/ohio/ohio.htm')\n(35, 2018, 'OK', 8.3, None, '/nchs/pressroom/states/oklahoma/oklahoma.htm')\n(36, 2018, 'OR', 6.7, None, '/nchs/pressroom/states/oregon/oregon.htm')\n(37, 2018, 'PA', 8.3, None, '/nchs/pressroom/states/pennsylvania/pennsylvania.htm')\n(38, 2018, 'RI', 7.6, None, '/nchs/pressroom/states/rhodeisland/rhodeisland.htm')\n(39, 2018, 'SC', 9.6, None, '/nchs/pressroom/states/southcarolina/southcarolina.htm')\n(40, 2018, 'SD', 6.6, None, '/nchs/pressroom/states/southdakota/southdakota.htm')\n(41, 2018, 'TN', 9.3, None, '/nchs/pressroom/states/tenessee/tennessee.htm')\n(42, 2018, 'TX', 8.5, None, '/nchs/pressroom/states/texas/texas.htm')\n(43, 2018, 'UT', 7.2, None, '/nchs/pressroom/states/utah/utah.htm')\n(44, 2018, 'VT', 7, None, '/nchs/pressroom/states/vermont/vermont.htm')\n(45, 2018, 'VA', 8.2, None, '/nchs/pressroom/states/virginia/virginia.htm')\n(46, 2018, 'WA', 6.6, None, '/nchs/pressroom/states/washington/washington.htm')\n(47, 2018, 'WV', 9.4, None, '/nchs/pressroom/states/westvirginia/westvirginia.htm')\n(48, 2018, 'WI', 7.7, None, '/nchs/pressroom/states/wisconsin/wisconsin.htm')\n(49, 2018, 'WY', 9.4, None, '/nchs/pressroom/states/wyoming/wyoming.htm')\n(50, 2017, 'AL', 10.3, None, '/nchs/pressroom/states/alabama/alabama.htm')\n(51, 2017, 'AK', 6.2, None, '/nchs/pressroom/states/alaska/alaska.htm')\n(52, 2017, 'AZ', 7.5, None, '/nchs/pressroom/states/arizona/arizona.htm')\n(53, 2017, 'AR', 9.3, None, '/nchs/pressroom/states/arkansas/arkansas.htm')\n(54, 2017, 'CA', 6.9, None, '/nchs/pressroom/states/california/california.htm')\n(55, 2017, 'CO', 9.1, None, '/nchs/pressroom/states/colorado/colorado.htm')\n(56, 2017, 'CT', 8.1, None, '/nchs/pressroom/states/connecticut/connecticut.htm')\n(57, 2017, 'DE', 9, None, '/nchs/pressroom/states/delaware/delaware.htm')\n(58, 2017, 'FL', 8.8, None, '/nchs/pressroom/states/florida/florida.htm')\n(59, 2017, 'GA', 9.9, None, '/nchs/pressroom/states/georgia/georgia.htm')\n(60, 2017, 'HI', 8.5, None, '/nchs/pressroom/states/hawaii/hawaii.htm')\n(61, 2017, 'ID', 7, None, '/nchs/pressroom/states/idaho/idaho.htm')\n(62, 2017, 'IL', 8.5, None, '/nchs/pressroom/states/illinois/illinois.htm')\n(63, 2017, 'IN', 8.3, None, '/nchs/pressroom/states/indiana/indiana.htm')\n(64, 2017, 'IA', 6.6, None, '/nchs/pressroom/states/iowa/iowa.htm')\n(65, 2017, 'KS', 7.4, None, '/nchs/pressroom/states/kansas/kansas.htm')\n(66, 2017, 'KY', 8.8, None, '/nchs/pressroom/states/kentucky/kentucky.htm')\n(67, 2017, 'LA', 10.7, None, '/nchs/pressroom/states/louisiana/louisiana.htm')\n(68, 2017, 'ME', 7.1, None, '/nchs/pressroom/states/maine/maine.htm')\n(69, 2017, 'MD', 8.9, None, '/nchs/pressroom/states/maryland/maryland.htm')\n(70, 2017, 'MA', 7.5, None, '/nchs/pressroom/states/massachusetts/massachusetts.htm')\n(71, 2017, 'MI', 8.8, None, '/nchs/pressroom/states/michigan/michigan.htm')\n(72, 2017, 'MN', 6.7, None, '/nchs/pressroom/states/minnesota/minnesota.htm')\n(73, 2017, 'MS', 11.6, None, '/nchs/pressroom/states/mississippi/mississippi.htm')\n(74, 2017, 'MO', 8.7, None, '/nchs/pressroom/states/missouri/missouri.htm')\n(75, 2017, 'MT', 8, None, '/nchs/pressroom/states/montana/montana.htm')\n(76, 2017, 'NE', 7.5, None, '/nchs/pressroom/states/nebraska/nebraska.htm')\n(77, 2017, 'NV', 9.1, None, '/nchs/pressroom/states/nevada/nevada.htm')\n(78, 2017, 'NH', 6.9, None, '/nchs/pressroom/states/newhampshire/newhampshire.htm')\n(79, 2017, 'NJ', 7.9, None, '/nchs/pressroom/states/newjersey/newjersey.htm')\n(80, 2017, 'NM', 9.5, None, '/nchs/pressroom/states/newmexico/newmexico.htm')\n(81, 2017, 'NY', 8.1, None, '/nchs/pressroom/states/newyork/newyork.htm')\n(82, 2017, 'NC', 9.4, None, '/nchs/pressroom/states/northcarolina/northcarolina.htm')\n(83, 2017, 'ND', 6.7, None, '/nchs/pressroom/states/northdakota/northdakota.htm')\n(84, 2017, 'OH', 8.7, None, '/nchs/pressroom/states/ohio/ohio.htm')\n(85, 2017, 'OK', 8.1, None, '/nchs/pressroom/states/oklahoma/oklahoma.htm')\n(86, 2017, 'OR', 6.8, None, '/nchs/pressroom/states/oregon/oregon.htm')\n(87, 2017, 'PA', 8.4, None, '/nchs/pressroom/states/pennsylvania/pennsylvania.htm')\n(88, 2017, 'RI', 7.5, None, '/nchs/pressroom/states/rhodeisland/rhodeisland.htm')\n(89, 2017, 'SC', 9.7, None, '/nchs/pressroom/states/southcarolina/southcarolina.htm')\n(90, 2017, 'SD', 6.9, None, '/nchs/pressroom/states/southdakota/southdakota.htm')\n(91, 2017, 'TN', 9.2, None, '/nchs/pressroom/states/tenessee/tennessee.htm')\n(92, 2017, 'TX', 8.4, None, '/nchs/pressroom/states/texas/texas.htm')\n(93, 2017, 'UT', 7.2, None, '/nchs/pressroom/states/utah/utah.htm')\n(94, 2017, 'VT', 6.7, None, '/nchs/pressroom/states/vermont/vermont.htm')\n(95, 2017, 'VA', 8.4, None, '/nchs/pressroom/states/virginia/virginia.htm')\n(96, 2017, 'WA', 6.6, None, '/nchs/pressroom/states/washington/washington.htm')\n(97, 2017, 'WV', 9.5, None, '/nchs/pressroom/states/westvirginia/westvirginia.htm')\n(98, 2017, 'WI', 7.7, None, '/nchs/pressroom/states/wisconsin/wisconsin.htm')\n(99, 2017, 'WY', 8.7, None, '/nchs/pressroom/states/wyoming/wyoming.htm')\n(100, 2016, 'AL', 10.3, None, '/nchs/pressroom/states/alabama/alabama.htm')\n(101, 2016, 'AK', 5.9, None, '/nchs/pressroom/states/alaska/alaska.htm')\n(102, 2016, 'AZ', 7.3, None, '/nchs/pressroom/states/arizona/arizona.htm')\n(103, 2016, 'AR', 8.8, None, '/nchs/pressroom/states/arkansas/arkansas.htm')\n(104, 2016, 'CA', 6.8, None, '/nchs/pressroom/states/california/california.htm')\n(105, 2016, 'CO', 9, None, '/nchs/pressroom/states/colorado/colorado.htm')\n(106, 2016, 'CT', 7.8, None, '/nchs/pressroom/states/connecticut/connecticut.htm')\n(107, 2016, 'DE', 8.9, None, '/nchs/pressroom/states/delaware/delaware.htm')\n(108, 2016, 'FL', 8.7, None, '/nchs/pressroom/states/florida/florida.htm')\n(109, 2016, 'GA', 9.8, None, '/nchs/pressroom/states/georgia/georgia.htm')\n(110, 2016, 'HI', 8.5, None, '/nchs/pressroom/states/hawaii/hawaii.htm')\n(111, 2016, 'ID', 7, None, '/nchs/pressroom/states/idaho/idaho.htm')\n(112, 2016, 'IL', 8.4, None, '/nchs/pressroom/states/illinois/illinois.htm')\n(113, 2016, 'IN', 8.2, None, '/nchs/pressroom/states/indiana/indiana.htm')\n(114, 2016, 'IA', 6.8, None, '/nchs/pressroom/states/iowa/iowa.htm')\n(115, 2016, 'KS', 7, None, '/nchs/pressroom/states/kansas/kansas.htm')\n(116, 2016, 'KY', 9.1, None, '/nchs/pressroom/states/kentucky/kentucky.htm')\n(117, 2016, 'LA', 10.6, None, '/nchs/pressroom/states/louisiana/louisiana.htm')\n(118, 2016, 'ME', 7.1, None, '/nchs/pressroom/states/maine/maine.htm')\n(119, 2016, 'MD', 8.5, None, '/nchs/pressroom/states/maryland/maryland.htm')\n(120, 2016, 'MA', 7.5, None, '/nchs/pressroom/states/massachusetts/massachusetts.htm')\n(121, 2016, 'MI', 8.5, None, '/nchs/pressroom/states/michigan/michigan.htm')\n(122, 2016, 'MN', 6.6, None, '/nchs/pressroom/states/minnesota/minnesota.htm')\n(123, 2016, 'MS', 11.5, None, '/nchs/pressroom/states/mississippi/mississippi.htm')\n(124, 2016, 'MO', 8.7, None, '/nchs/pressroom/states/missouri/missouri.htm')\n(125, 2016, 'MT', 7.9, None, '/nchs/pressroom/states/montana/montana.htm')\n(126, 2016, 'NE', 7, None, '/nchs/pressroom/states/nebraska/nebraska.htm')\n(127, 2016, 'NV', 8.5, None, '/nchs/pressroom/states/nevada/nevada.htm')\n(128, 2016, 'NH', 6.4, None, '/nchs/pressroom/states/newhampshire/newhampshire.htm')\n(129, 2016, 'NJ', 8.1, None, '/nchs/pressroom/states/newjersey/newjersey.htm')\n(130, 2016, 'NM', 9, None, '/nchs/pressroom/states/newmexico/newmexico.htm')\n(131, 2016, 'NY', 7.9, None, '/nchs/pressroom/states/newyork/newyork.htm')\n(132, 2016, 'NC', 9.2, None, '/nchs/pressroom/states/northcarolina/northcarolina.htm')\n(133, 2016, 'ND', 6.6, None, '/nchs/pressroom/states/northdakota/northdakota.htm')\n(134, 2016, 'OH', 8.7, None, '/nchs/pressroom/states/ohio/ohio.htm')\n(135, 2016, 'OK', 7.8, None, '/nchs/pressroom/states/oklahoma/oklahoma.htm')\n(136, 2016, 'OR', 6.5, None, '/nchs/pressroom/states/oregon/oregon.htm')\n(137, 2016, 'PA', 8.2, None, '/nchs/pressroom/states/pennsylvania/pennsylvania.htm')\n(138, 2016, 'RI', 8, None, '/nchs/pressroom/states/rhodeisland/rhodeisland.htm')\n(139, 2016, 'SC', 9.6, None, '/nchs/pressroom/states/southcarolina/southcarolina.htm')\n(140, 2016, 'SD', 6.8, None, '/nchs/pressroom/states/southdakota/southdakota.htm')\n(141, 2016, 'TN', 9.3, None, '/nchs/pressroom/states/tenessee/tennessee.htm')\n(142, 2016, 'TX', 8.4, None, '/nchs/pressroom/states/texas/texas.htm')\n(143, 2016, 'UT', 7.2, None, '/nchs/pressroom/states/utah/utah.htm')\n(144, 2016, 'VT', 6.9, None, '/nchs/pressroom/states/vermont/vermont.htm')\n(145, 2016, 'VA', 8.1, None, '/nchs/pressroom/states/virginia/virginia.htm')\n(146, 2016, 'WA', 6.4, None, '/nchs/pressroom/states/washington/washington.htm')\n(147, 2016, 'WV', 9.6, None, '/nchs/pressroom/states/westvirginia/westvirginia.htm')\n(148, 2016, 'WI', 7.4, None, '/nchs/pressroom/states/wisconsin/wisconsin.htm')\n(149, 2016, 'WY', 8.5, None, '/nchs/pressroom/states/wyoming/wyoming.htm')\n(150, 2015, 'AL', 10.4, None, '/nchs/pressroom/states/alabama/alabama.htm')\n(151, 2015, 'AK', 5.8, None, '/nchs/pressroom/states/alaska/alaska.htm')\n(152, 2015, 'AZ', 7.2, None, '/nchs/pressroom/states/arizona/arizona.htm')\n(153, 2015, 'AR', 9.2, None, '/nchs/pressroom/states/arkansas/arkansas.htm')\n(154, 2015, 'CA', 6.8, None, '/nchs/pressroom/states/california/california.htm')\n(155, 2015, 'CO', 9, None, '/nchs/pressroom/states/colorado/colorado.htm')\n(156, 2015, 'CT', 7.9, None, '/nchs/pressroom/states/connecticut/connecticut.htm')\n(157, 2015, 'DE', 9.3, None, '/nchs/pressroom/states/delaware/delaware.htm')\n(158, 2015, 'FL', 8.6, None, '/nchs/pressroom/states/florida/florida.htm')\n(159, 2015, 'GA', 9.5, None, '/nchs/pressroom/states/georgia/georgia.htm')\n(160, 2015, 'HI', 8.3, None, '/nchs/pressroom/states/hawaii/hawaii.htm')\n(161, 2015, 'ID', 6.6, None, '/nchs/pressroom/states/idaho/idaho.htm')\n(162, 2015, 'IL', 8.3, None, '/nchs/pressroom/states/illinois/illinois.htm')\n(163, 2015, 'IN', 8, None, '/nchs/pressroom/states/indiana/indiana.htm')\n(164, 2015, 'IA', 6.7, None, '/nchs/pressroom/states/iowa/iowa.htm')\n(165, 2015, 'KS', 6.8, None, '/nchs/pressroom/states/kansas/kansas.htm')\n(166, 2015, 'KY', 8.7, None, '/nchs/pressroom/states/kentucky/kentucky.htm')\n(167, 2015, 'LA', 10.6, None, '/nchs/pressroom/states/louisiana/louisiana.htm')\n(168, 2015, 'ME', 6.9, None, '/nchs/pressroom/states/maine/maine.htm')\n(169, 2015, 'MD', 8.6, None, '/nchs/pressroom/states/maryland/maryland.htm')\n(170, 2015, 'MA', 7.5, None, '/nchs/pressroom/states/massachusetts/massachusetts.htm')\n(171, 2015, 'MI', 8.5, None, '/nchs/pressroom/states/michigan/michigan.htm')\n(172, 2015, 'MN', 6.4, None, '/nchs/pressroom/states/minnesota/minnesota.htm')\n(173, 2015, 'MS', 11.4, None, '/nchs/pressroom/states/mississippi/mississippi.htm')\n(174, 2015, 'MO', 8.3, None, '/nchs/pressroom/states/missouri/missouri.htm')\n(175, 2015, 'MT', 7.1, None, '/nchs/pressroom/states/montana/montana.htm')\n(176, 2015, 'NE', 7.1, None, '/nchs/pressroom/states/nebraska/nebraska.htm')\n(177, 2015, 'NV', 8.5, None, '/nchs/pressroom/states/nevada/nevada.htm')\n(178, 2015, 'NH', 6.9, None, '/nchs/pressroom/states/newhampshire/newhampshire.htm')\n(179, 2015, 'NJ', 8.1, None, '/nchs/pressroom/states/newjersey/newjersey.htm')\n(180, 2015, 'NM', 8.7, None, '/nchs/pressroom/states/newmexico/newmexico.htm')\n(181, 2015, 'NY', 7.8, None, '/nchs/pressroom/states/newyork/newyork.htm')\n(182, 2015, 'NC', 9.1, None, '/nchs/pressroom/states/northcarolina/northcarolina.htm')\n(183, 2015, 'ND', 6.2, None, '/nchs/pressroom/states/northdakota/northdakota.htm')\n(184, 2015, 'OH', 8.5, None, '/nchs/pressroom/states/ohio/ohio.htm')\n(185, 2015, 'OK', 7.9, None, '/nchs/pressroom/states/oklahoma/oklahoma.htm')\n(186, 2015, 'OR', 6.4, None, '/nchs/pressroom/states/oregon/oregon.htm')\n(187, 2015, 'PA', 8.2, None, '/nchs/pressroom/states/pennsylvania/pennsylvania.htm')\n(188, 2015, 'RI', 7.6, None, '/nchs/pressroom/states/rhodeisland/rhodeisland.htm')\n(189, 2015, 'SC', 9.5, None, '/nchs/pressroom/states/southcarolina/southcarolina.htm')\n(190, 2015, 'SD', 6.1, None, '/nchs/pressroom/states/southdakota/southdakota.htm')\n(191, 2015, 'TN', 9.2, None, '/nchs/pressroom/states/tenessee/tennessee.htm')\n(192, 2015, 'TX', 8.2, None, '/nchs/pressroom/states/texas/texas.htm')\n(193, 2015, 'UT', 7, None, '/nchs/pressroom/states/utah/utah.htm')\n(194, 2015, 'VT', 6.6, None, '/nchs/pressroom/states/vermont/vermont.htm')\n(195, 2015, 'VA', 7.9, None, '/nchs/pressroom/states/virginia/virginia.htm')\n(196, 2015, 'WA', 6.4, None, '/nchs/pressroom/states/washington/washington.htm')\n(197, 2015, 'WV', 9.6, None, '/nchs/pressroom/states/westvirginia/westvirginia.htm')\n(198, 2015, 'WI', 7.3, None, '/nchs/pressroom/states/wisconsin/wisconsin.htm')\n(199, 2015, 'WY', 8.6, None, '/nchs/pressroom/states/wyoming/wyoming.htm')\n(200, 2014, 'AL', 10.1, None, '/nchs/pressroom/states/alabama/alabama.htm')\n(201, 2014, 'AK', 5.9, None, '/nchs/pressroom/states/alaska/alaska.htm')\n(202, 2014, 'AZ', 7, None, '/nchs/pressroom/states/arizona/arizona.htm')\n(203, 2014, 'AR', 8.9, None, '/nchs/pressroom/states/arkansas/arkansas.htm')\n(204, 2014, 'CA', 6.7, None, '/nchs/pressroom/states/california/california.htm')\n(205, 2014, 'CO', 8.8, None, '/nchs/pressroom/states/colorado/colorado.htm')\n(206, 2014, 'CT', 7.6, None, '/nchs/pressroom/states/connecticut/connecticut.htm')\n(207, 2014, 'DE', 8.3, None, '/nchs/pressroom/states/delaware/delaware.htm')\n(208, 2014, 'FL', 8.7, None, '/nchs/pressroom/states/florida/florida.htm')\n(209, 2014, 'GA', 9.5, None, '/nchs/pressroom/states/georgia/georgia.htm')\n(210, 2014, 'HI', 7.9, None, '/nchs/pressroom/states/hawaii/hawaii.htm')\n(211, 2014, 'ID', 6.4, None, '/nchs/pressroom/states/idaho/idaho.htm')\n(212, 2014, 'IL', 8.2, None, '/nchs/pressroom/states/illinois/illinois.htm')\n(213, 2014, 'IN', 8, None, '/nchs/pressroom/states/indiana/indiana.htm')\n(214, 2014, 'IA', 6.7, None, '/nchs/pressroom/states/iowa/iowa.htm')\n(215, 2014, 'KS', 7, None, '/nchs/pressroom/states/kansas/kansas.htm')\n(216, 2014, 'KY', 8.8, None, '/nchs/pressroom/states/kentucky/kentucky.htm')\n(217, 2014, 'LA', 10.5, None, '/nchs/pressroom/states/louisiana/louisiana.htm')\n(218, 2014, 'ME', 7.6, None, '/nchs/pressroom/states/maine/maine.htm')\n(219, 2014, 'MD', 8.6, None, '/nchs/pressroom/states/maryland/maryland.htm')\n(220, 2014, 'MA', 7.5, None, '/nchs/pressroom/states/massachusetts/massachusetts.htm')\n(221, 2014, 'MI', 8.4, None, '/nchs/pressroom/states/michigan/michigan.htm')\n(222, 2014, 'MN', 6.6, None, '/nchs/pressroom/states/minnesota/minnesota.htm')\n(223, 2014, 'MS', 11.3, None, '/nchs/pressroom/states/mississippi/mississippi.htm')\n(224, 2014, 'MO', 8.2, None, '/nchs/pressroom/states/missouri/missouri.htm')\n(225, 2014, 'MT', 7.4, None, '/nchs/pressroom/states/montana/montana.htm')\n(226, 2014, 'NE', 6.6, None, '/nchs/pressroom/states/nebraska/nebraska.htm')\n(227, 2014, 'NV', 8.3, None, '/nchs/pressroom/states/nevada/nevada.htm')\n(228, 2014, 'NH', 6.9, None, '/nchs/pressroom/states/newhampshire/newhampshire.htm')\n(229, 2014, 'NJ', 8.1, None, '/nchs/pressroom/states/newjersey/newjersey.htm')\n(230, 2014, 'NM', 8.8, None, '/nchs/pressroom/states/newmexico/newmexico.htm')\n(231, 2014, 'NY', 7.9, None, '/nchs/pressroom/states/newyork/newyork.htm')\n(232, 2014, 'NC', 8.9, None, '/nchs/pressroom/states/northcarolina/northcarolina.htm')\n(233, 2014, 'ND', 6.2, None, '/nchs/pressroom/states/northdakota/northdakota.htm')\n(234, 2014, 'OH', 8.5, None, '/nchs/pressroom/states/ohio/ohio.htm')\n(235, 2014, 'OK', 8, None, '/nchs/pressroom/states/oklahoma/oklahoma.htm')\n(236, 2014, 'OR', 6.2, None, '/nchs/pressroom/states/oregon/oregon.htm')\n(237, 2014, 'PA', 8.3, None, '/nchs/pressroom/states/pennsylvania/pennsylvania.htm')\n(238, 2014, 'RI', 7.1, None, '/nchs/pressroom/states/rhodeisland/rhodeisland.htm')\n(239, 2014, 'SC', 9.4, None, '/nchs/pressroom/states/southcarolina/southcarolina.htm')\n(240, 2014, 'SD', 6.5, None, '/nchs/pressroom/states/southdakota/southdakota.htm')\n(241, 2014, 'TN', 9, None, '/nchs/pressroom/states/tenessee/tennessee.htm')\n(242, 2014, 'TX', 8.2, None, '/nchs/pressroom/states/texas/texas.htm')\n(243, 2014, 'UT', 7, None, '/nchs/pressroom/states/utah/utah.htm')\n(244, 2014, 'VT', 7.1, None, '/nchs/pressroom/states/vermont/vermont.htm')\n(245, 2014, 'VA', 7.9, None, '/nchs/pressroom/states/virginia/virginia.htm')\n(246, 2014, 'WA', 6.4, None, '/nchs/pressroom/states/washington/washington.htm')\n(247, 2014, 'WV', 9.1, None, '/nchs/pressroom/states/westvirginia/westvirginia.htm')\n(248, 2014, 'WI', 7.3, None, '/nchs/pressroom/states/wisconsin/wisconsin.htm')\n(249, 2014, 'WY', 9.2, None, '/nchs/pressroom/states/wyoming/wyoming.htm')\n(250, 2005, 'AL', 10.7, None, '/nchs/pressroom/states/alabama/alabama.htm')\n(251, 2005, 'AK', 6.1, None, '/nchs/pressroom/states/alaska/alaska.htm')\n(252, 2005, 'AZ', 6.9, None, '/nchs/pressroom/states/arizona/arizona.htm')\n(253, 2005, 'AR', 8.9, None, '/nchs/pressroom/states/arkansas/arkansas.htm')\n(254, 2005, 'CA', 6.9, None, '/nchs/pressroom/states/california/california.htm')\n(255, 2005, 'CO', 9.2, None, '/nchs/pressroom/states/colorado/colorado.htm')\n(256, 2005, 'CT', 8, None, '/nchs/pressroom/states/connecticut/connecticut.htm')\n(257, 2005, 'DE', 9.5, None, '/nchs/pressroom/states/delaware/delaware.htm')\n(258, 2005, 'FL', 8.7, None, '/nchs/pressroom/states/florida/florida.htm')\n(259, 2005, 'GA', 9.5, None, '/nchs/pressroom/states/georgia/georgia.htm')\n(260, 2005, 'HI', 8.2, None, '/nchs/pressroom/states/hawaii/hawaii.htm')\n(261, 2005, 'ID', 6.7, None, '/nchs/pressroom/states/idaho/idaho.htm')\n(262, 2005, 'IL', 8.5, None, '/nchs/pressroom/states/illinois/illinois.htm')\n(263, 2005, 'IN', 8.3, None, '/nchs/pressroom/states/indiana/indiana.htm')\n(264, 2005, 'IA', 7.2, None, '/nchs/pressroom/states/iowa/iowa.htm')\n(265, 2005, 'KS', 7.2, None, '/nchs/pressroom/states/kansas/kansas.htm')\n(266, 2005, 'KY', 9.1, None, '/nchs/pressroom/states/kentucky/kentucky.htm')\n(267, 2005, 'LA', 11.5, None, '/nchs/pressroom/states/louisiana/louisiana.htm')\n(268, 2005, 'ME', 6.8, None, '/nchs/pressroom/states/maine/maine.htm')\n(269, 2005, 'MD', 9.1, None, '/nchs/pressroom/states/maryland/maryland.htm')\n(270, 2005, 'MA', 7.9, None, '/nchs/pressroom/states/massachusetts/massachusetts.htm')\n(271, 2005, 'MI', 8.3, None, '/nchs/pressroom/states/michigan/michigan.htm')\n(272, 2005, 'MN', 6.5, None, '/nchs/pressroom/states/minnesota/minnesota.htm')\n(273, 2005, 'MS', 11.8, None, '/nchs/pressroom/states/mississippi/mississippi.htm')\n(274, 2005, 'MO', 8.1, None, '/nchs/pressroom/states/missouri/missouri.htm')\n(275, 2005, 'MT', 6.6, None, '/nchs/pressroom/states/montana/montana.htm')\n(276, 2005, 'NE', 7, None, '/nchs/pressroom/states/nebraska/nebraska.htm')\n(277, 2005, 'NV', 8.3, None, '/nchs/pressroom/states/nevada/nevada.htm')\n(278, 2005, 'NH', 7, None, '/nchs/pressroom/states/newhampshire/newhampshire.htm')\n(279, 2005, 'NJ', 8.2, None, '/nchs/pressroom/states/newjersey/newjersey.htm')\n(280, 2005, 'NM', 8.5, None, '/nchs/pressroom/states/newmexico/newmexico.htm')\n(281, 2005, 'NY', 8.3, None, '/nchs/pressroom/states/newyork/newyork.htm')\n(282, 2005, 'NC', 9.2, None, '/nchs/pressroom/states/northcarolina/northcarolina.htm')\n(283, 2005, 'ND', 6.4, None, '/nchs/pressroom/states/northdakota/northdakota.htm')\n(284, 2005, 'OH', 8.7, None, '/nchs/pressroom/states/ohio/ohio.htm')\n(285, 2005, 'OK', 8, None, '/nchs/pressroom/states/oklahoma/oklahoma.htm')\n(286, 2005, 'OR', 6.1, None, '/nchs/pressroom/states/oregon/oregon.htm')\n(287, 2005, 'PA', 8.4, None, '/nchs/pressroom/states/pennsylvania/pennsylvania.htm')\n(288, 2005, 'RI', 7.8, None, '/nchs/pressroom/states/rhodeisland/rhodeisland.htm')\n(289, 2005, 'SC', 10.2, None, '/nchs/pressroom/states/southcarolina/southcarolina.htm')\n(290, 2005, 'SD', 6.6, None, '/nchs/pressroom/states/southdakota/southdakota.htm')\n(291, 2005, 'TN', 9.5, None, '/nchs/pressroom/states/tenessee/tennessee.htm')\n(292, 2005, 'TX', 8.3, None, '/nchs/pressroom/states/texas/texas.htm')\n(293, 2005, 'UT', 6.8, None, '/nchs/pressroom/states/utah/utah.htm')\n(294, 2005, 'VT', 6.2, None, '/nchs/pressroom/states/vermont/vermont.htm')\n(295, 2005, 'VA', 8.2, None, '/nchs/pressroom/states/virginia/virginia.htm')\n(296, 2005, 'WA', 6.1, None, '/nchs/pressroom/states/washington/washington.htm')\n(297, 2005, 'WV', 9.6, None, '/nchs/pressroom/states/westvirginia/westvirginia.htm')\n(298, 2005, 'WI', 7, None, '/nchs/pressroom/states/wisconsin/wisconsin.htm')\n(299, 2005, 'WY', 8.6, None, '/nchs/pressroom/states/wyoming/wyoming.htm')\n(300, None, None, None, None, None)\n"
    }
   ],
   "source": [
    "\n",
    "conn = sqlite3.connect(db_file)\n",
    "\n",
    "def sql_fetch(conn):\n",
    "\n",
    "    cursorObj = conn.cursor()\n",
    "\n",
    "    cursorObj.execute('SELECT * FROM birthweight')\n",
    "\n",
    "    rows = cursorObj.fetchall()\n",
    "\n",
    "    for row in rows:\n",
    "\n",
    "        print(row)\n",
    "\n",
    "sql_fetch(conn)\n",
    "\n",
    "conn.close()"
   ]
  },
  {
   "cell_type": "code",
   "execution_count": null,
   "metadata": {},
   "outputs": [],
   "source": []
  }
 ],
 "metadata": {
  "language_info": {
   "codemirror_mode": {
    "name": "ipython",
    "version": 3
   },
   "file_extension": ".py",
   "mimetype": "text/x-python",
   "name": "python",
   "nbconvert_exporter": "python",
   "pygments_lexer": "ipython3",
   "version": "3.7.4-final"
  },
  "orig_nbformat": 2,
  "kernelspec": {
   "name": "python3",
   "display_name": "Python 3"
  }
 },
 "nbformat": 4,
 "nbformat_minor": 2
}
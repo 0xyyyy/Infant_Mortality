{
 "cells": [
  {
   "cell_type": "code",
   "execution_count": 1,
   "metadata": {},
   "outputs": [],
   "source": [
    "import csv\n",
    "import pandas as pd \n",
    "import sqlite3"
   ]
  },
  {
   "cell_type": "code",
   "execution_count": 2,
   "metadata": {},
   "outputs": [],
   "source": [
    "db_file = \"db2.sqlite\""
   ]
  },
  {
   "cell_type": "code",
   "execution_count": 3,
   "metadata": {
    "tags": []
   },
   "outputs": [
    {
     "output_type": "error",
     "ename": "OperationalError",
     "evalue": "table birthweight already exists",
     "traceback": [
      "\u001b[1;31m---------------------------------------------------------------------------\u001b[0m",
      "\u001b[1;31mOperationalError\u001b[0m                          Traceback (most recent call last)",
      "\u001b[1;32m<ipython-input-3-58f9cfd8f72a>\u001b[0m in \u001b[0;36m<module>\u001b[1;34m\u001b[0m\n\u001b[0;32m     16\u001b[0m    \u001b[0mURL\u001b[0m \u001b[0mCHAR\u001b[0m\u001b[1;33m(\u001b[0m\u001b[1;36m255\u001b[0m\u001b[1;33m)\u001b[0m\u001b[1;33m\u001b[0m\u001b[1;33m\u001b[0m\u001b[0m\n\u001b[0;32m     17\u001b[0m )'''\n\u001b[1;32m---> 18\u001b[1;33m \u001b[0mcursor\u001b[0m\u001b[1;33m.\u001b[0m\u001b[0mexecute\u001b[0m\u001b[1;33m(\u001b[0m\u001b[0msql\u001b[0m\u001b[1;33m)\u001b[0m\u001b[1;33m\u001b[0m\u001b[1;33m\u001b[0m\u001b[0m\n\u001b[0m\u001b[0;32m     19\u001b[0m \u001b[0mprint\u001b[0m\u001b[1;33m(\u001b[0m\u001b[1;34m\"Table created successfully........\"\u001b[0m\u001b[1;33m)\u001b[0m\u001b[1;33m\u001b[0m\u001b[1;33m\u001b[0m\u001b[0m\n\u001b[0;32m     20\u001b[0m \u001b[1;33m\u001b[0m\u001b[0m\n",
      "\u001b[1;31mOperationalError\u001b[0m: table birthweight already exists"
     ]
    }
   ],
   "source": [
    "conn = sqlite3.connect(db_file)\n",
    "\n",
    "#Creating a cursor object using the cursor() method\n",
    "cursor = conn.cursor()\n",
    "\n",
    "#Dropping INFANT_MORTALITY table if already exists.\n",
    "# cursor.execute(\"DROP TABLE IF EXISTS birthweight\")\n",
    "\n",
    "#Creating table as per requirement\n",
    "sql ='''CREATE TABLE birthweight( \n",
    "   ID INT PRIMARY KEY,\n",
    "   YEAR INT,\n",
    "   STATE CHAR(2),\n",
    "   RATE INT,\n",
    "   DEATHS INT,\n",
    "   URL CHAR(255)\n",
    ")'''\n",
    "cursor.execute(sql)\n",
    "print(\"Table created successfully........\")\n",
    "\n",
    "# Commit your changes in the database\n",
    "conn.commit()\n",
    "\n",
    "#Closing the connection\n",
    "conn.close()"
   ]
  },
  {
   "cell_type": "code",
   "execution_count": 4,
   "metadata": {
    "tags": []
   },
   "outputs": [
    {
     "ename": "OperationalError",
     "evalue": "table teen already exists",
     "output_type": "error",
     "traceback": [
      "\u001b[0;31m---------------------------------------------------------------------------\u001b[0m",
      "\u001b[0;31mOperationalError\u001b[0m                          Traceback (most recent call last)",
      "\u001b[0;32m<ipython-input-4-9e491d5a1fe8>\u001b[0m in \u001b[0;36m<module>\u001b[0;34m\u001b[0m\n\u001b[1;32m     16\u001b[0m    \u001b[0mURL\u001b[0m \u001b[0mCHAR\u001b[0m\u001b[0;34m(\u001b[0m\u001b[0;36m255\u001b[0m\u001b[0;34m)\u001b[0m\u001b[0;34m\u001b[0m\u001b[0;34m\u001b[0m\u001b[0m\n\u001b[1;32m     17\u001b[0m )'''\n\u001b[0;32m---> 18\u001b[0;31m \u001b[0mcursor\u001b[0m\u001b[0;34m.\u001b[0m\u001b[0mexecute\u001b[0m\u001b[0;34m(\u001b[0m\u001b[0msql\u001b[0m\u001b[0;34m)\u001b[0m\u001b[0;34m\u001b[0m\u001b[0;34m\u001b[0m\u001b[0m\n\u001b[0m\u001b[1;32m     19\u001b[0m \u001b[0mprint\u001b[0m\u001b[0;34m(\u001b[0m\u001b[0;34m\"Table created successfully........\"\u001b[0m\u001b[0;34m)\u001b[0m\u001b[0;34m\u001b[0m\u001b[0;34m\u001b[0m\u001b[0m\n\u001b[1;32m     20\u001b[0m \u001b[0;34m\u001b[0m\u001b[0m\n",
      "\u001b[0;31mOperationalError\u001b[0m: table teen already exists"
     ]
    }
   ],
   "source": [
    "conn = sqlite3.connect(db_file)\n",
    "\n",
    "#Creating a cursor object using the cursor() method\n",
    "cursor = conn.cursor()\n",
    "\n",
    "#Dropping INFANT_MORTALITY table if already exists.\n",
    "# cursor.execute(\"DROP TABLE IF EXISTS teen\")\n",
    "\n",
    "#Creating table as per requirement\n",
    "sql ='''CREATE TABLE teen( \n",
    "   ID INT PRIMARY KEY,\n",
    "   YEAR INT,\n",
    "   STATE CHAR(2),\n",
    "   RATE INT,\n",
    "   DEATHS INT,\n",
    "   URL CHAR(255)\n",
    ")'''\n",
    "cursor.execute(sql)\n",
    "print(\"Table created successfully........\")\n",
    "\n",
    "# Commit your changes in the database\n",
    "conn.commit()\n",
    "\n",
    "#Closing the connection\n",
    "conn.close()"
   ]
  },
  {
   "cell_type": "code",
   "execution_count": 5,
   "metadata": {
    "tags": []
   },
   "outputs": [
    {
     "ename": "OperationalError",
     "evalue": "table unmarried already exists",
     "output_type": "error",
     "traceback": [
      "\u001b[0;31m---------------------------------------------------------------------------\u001b[0m",
      "\u001b[0;31mOperationalError\u001b[0m                          Traceback (most recent call last)",
      "\u001b[0;32m<ipython-input-5-78c55fe355a6>\u001b[0m in \u001b[0;36m<module>\u001b[0;34m\u001b[0m\n\u001b[1;32m     16\u001b[0m    \u001b[0mURL\u001b[0m \u001b[0mCHAR\u001b[0m\u001b[0;34m(\u001b[0m\u001b[0;36m255\u001b[0m\u001b[0;34m)\u001b[0m\u001b[0;34m\u001b[0m\u001b[0;34m\u001b[0m\u001b[0m\n\u001b[1;32m     17\u001b[0m )'''\n\u001b[0;32m---> 18\u001b[0;31m \u001b[0mcursor\u001b[0m\u001b[0;34m.\u001b[0m\u001b[0mexecute\u001b[0m\u001b[0;34m(\u001b[0m\u001b[0msql\u001b[0m\u001b[0;34m)\u001b[0m\u001b[0;34m\u001b[0m\u001b[0;34m\u001b[0m\u001b[0m\n\u001b[0m\u001b[1;32m     19\u001b[0m \u001b[0mprint\u001b[0m\u001b[0;34m(\u001b[0m\u001b[0;34m\"Table created successfully........\"\u001b[0m\u001b[0;34m)\u001b[0m\u001b[0;34m\u001b[0m\u001b[0;34m\u001b[0m\u001b[0m\n\u001b[1;32m     20\u001b[0m \u001b[0;34m\u001b[0m\u001b[0m\n",
      "\u001b[0;31mOperationalError\u001b[0m: table unmarried already exists"
     ]
    }
   ],
   "source": [
    "conn = sqlite3.connect(db_file)\n",
    "\n",
    "#Creating a cursor object using the cursor() method\n",
    "cursor = conn.cursor()\n",
    "\n",
    "#Dropping INFANT_MORTALITY table if already exists.\n",
    "# cursor.execute(\"DROP TABLE IF EXISTS unmarried\")\n",
    "\n",
    "#Creating table as per requirement\n",
    "sql ='''CREATE TABLE unmarried( \n",
    "   ID INT PRIMARY KEY,\n",
    "   YEAR INT,\n",
    "   STATE CHAR(2),\n",
    "   RATE INT,\n",
    "   DEATHS INT,\n",
    "   URL CHAR(255)\n",
    ")'''\n",
    "cursor.execute(sql)\n",
    "print(\"Table created successfully........\")\n",
    "\n",
    "# Commit your changes in the database\n",
    "conn.commit()\n",
    "\n",
    "#Closing the connection\n",
    "conn.close()"
   ]
  },
  {
   "cell_type": "code",
   "execution_count": 6,
   "metadata": {
    "tags": []
   },
   "outputs": [
    {
     "ename": "OperationalError",
     "evalue": "table infant already exists",
     "output_type": "error",
     "traceback": [
      "\u001b[0;31m---------------------------------------------------------------------------\u001b[0m",
      "\u001b[0;31mOperationalError\u001b[0m                          Traceback (most recent call last)",
      "\u001b[0;32m<ipython-input-6-c6f831883ce7>\u001b[0m in \u001b[0;36m<module>\u001b[0;34m\u001b[0m\n\u001b[1;32m     16\u001b[0m    \u001b[0mURL\u001b[0m \u001b[0mCHAR\u001b[0m\u001b[0;34m(\u001b[0m\u001b[0;36m255\u001b[0m\u001b[0;34m)\u001b[0m\u001b[0;34m\u001b[0m\u001b[0;34m\u001b[0m\u001b[0m\n\u001b[1;32m     17\u001b[0m )'''\n\u001b[0;32m---> 18\u001b[0;31m \u001b[0mcursor\u001b[0m\u001b[0;34m.\u001b[0m\u001b[0mexecute\u001b[0m\u001b[0;34m(\u001b[0m\u001b[0msql\u001b[0m\u001b[0;34m)\u001b[0m\u001b[0;34m\u001b[0m\u001b[0;34m\u001b[0m\u001b[0m\n\u001b[0m\u001b[1;32m     19\u001b[0m \u001b[0mprint\u001b[0m\u001b[0;34m(\u001b[0m\u001b[0;34m\"Table created successfully........\"\u001b[0m\u001b[0;34m)\u001b[0m\u001b[0;34m\u001b[0m\u001b[0;34m\u001b[0m\u001b[0m\n\u001b[1;32m     20\u001b[0m \u001b[0;34m\u001b[0m\u001b[0m\n",
      "\u001b[0;31mOperationalError\u001b[0m: table infant already exists"
     ]
    }
   ],
   "source": [
    "conn = sqlite3.connect(db_file)\n",
    "\n",
    "#Creating a cursor object using the cursor() method\n",
    "cursor = conn.cursor()\n",
    "\n",
    "#Dropping INFANT_MORTALITY table if already exists.\n",
    "# cursor.execute(\"DROP TABLE IF EXISTS infant\")\n",
    "\n",
    "#Creating table as per requirement\n",
    "sql ='''CREATE TABLE infant( \n",
    "   ID INT PRIMARY KEY,\n",
    "   YEAR INT,\n",
    "   STATE CHAR(2),\n",
    "   RATE INT,\n",
    "   DEATHS INT,\n",
    "   URL CHAR(255)\n",
    ")'''\n",
    "cursor.execute(sql)\n",
    "print(\"Table created successfully........\")\n",
    "\n",
    "# Commit your changes in the database\n",
    "conn.commit()\n",
    "\n",
    "#Closing the connection\n",
    "conn.close()"
   ]
  },
  {
   "cell_type": "code",
   "execution_count": 7,
   "metadata": {},
   "outputs": [
    {
     "ename": "NameError",
     "evalue": "name 'infant_df' is not defined",
     "output_type": "error",
     "traceback": [
      "\u001b[0;31m---------------------------------------------------------------------------\u001b[0m",
      "\u001b[0;31mNameError\u001b[0m                                 Traceback (most recent call last)",
      "\u001b[0;32m<ipython-input-7-69d7731e44de>\u001b[0m in \u001b[0;36m<module>\u001b[0;34m\u001b[0m\n\u001b[1;32m      1\u001b[0m \u001b[0mlowweight_df\u001b[0m \u001b[0;34m=\u001b[0m \u001b[0mpd\u001b[0m\u001b[0;34m.\u001b[0m\u001b[0mread_csv\u001b[0m\u001b[0;34m(\u001b[0m\u001b[0;34m\"Low Birthweight by State.csv\"\u001b[0m\u001b[0;34m)\u001b[0m\u001b[0;34m\u001b[0m\u001b[0;34m\u001b[0m\u001b[0m\n\u001b[0;32m----> 2\u001b[0;31m \u001b[0mlowweight_df\u001b[0m\u001b[0;34m.\u001b[0m\u001b[0minsert\u001b[0m\u001b[0;34m(\u001b[0m\u001b[0;36m0\u001b[0m\u001b[0;34m,\u001b[0m \u001b[0;34m\"ID\"\u001b[0m\u001b[0;34m,\u001b[0m \u001b[0mrange\u001b[0m\u001b[0;34m(\u001b[0m\u001b[0;36m0\u001b[0m\u001b[0;34m,\u001b[0m \u001b[0mlen\u001b[0m\u001b[0;34m(\u001b[0m\u001b[0minfant_df\u001b[0m\u001b[0;34m)\u001b[0m\u001b[0;34m)\u001b[0m\u001b[0;34m)\u001b[0m\u001b[0;34m\u001b[0m\u001b[0;34m\u001b[0m\u001b[0m\n\u001b[0m\u001b[1;32m      3\u001b[0m \u001b[0;34m\u001b[0m\u001b[0m\n\u001b[1;32m      4\u001b[0m \u001b[0mteenbirth_df\u001b[0m \u001b[0;34m=\u001b[0m \u001b[0mpd\u001b[0m\u001b[0;34m.\u001b[0m\u001b[0mread_csv\u001b[0m\u001b[0;34m(\u001b[0m\u001b[0;34m\"Teen Birth Rate by State.csv\"\u001b[0m\u001b[0;34m)\u001b[0m\u001b[0;34m\u001b[0m\u001b[0;34m\u001b[0m\u001b[0m\n\u001b[1;32m      5\u001b[0m \u001b[0mteenbirth_df\u001b[0m\u001b[0;34m.\u001b[0m\u001b[0minsert\u001b[0m\u001b[0;34m(\u001b[0m\u001b[0;36m0\u001b[0m\u001b[0;34m,\u001b[0m \u001b[0;34m\"ID\"\u001b[0m\u001b[0;34m,\u001b[0m \u001b[0mrange\u001b[0m\u001b[0;34m(\u001b[0m\u001b[0;36m0\u001b[0m\u001b[0;34m,\u001b[0m \u001b[0mlen\u001b[0m\u001b[0;34m(\u001b[0m\u001b[0minfant_df\u001b[0m\u001b[0;34m)\u001b[0m\u001b[0;34m)\u001b[0m\u001b[0;34m)\u001b[0m\u001b[0;34m\u001b[0m\u001b[0;34m\u001b[0m\u001b[0m\n",
      "\u001b[0;31mNameError\u001b[0m: name 'infant_df' is not defined"
     ]
    }
   ],
   "source": [
    "lowweight_df = pd.read_csv(\"Low Birthweight by State.csv\")\n",
    "lowweight_df.insert(0, \"ID\", range(0, len(infant_df)))\n",
    "\n",
    "teenbirth_df = pd.read_csv(\"Teen Birth Rate by State.csv\")\n",
    "teenbirth_df.insert(0, \"ID\", range(0, len(infant_df)))\n",
    "\n",
    "unmarried_df = pd.read_csv(\"Unmarried Mothers by State.csv\")\n",
    "unmarried_df.insert(0, \"ID\", range(0, len(infant_df)))\n",
    "\n",
    "infant_df = pd.read_csv(\"Infant_Mortality_Rates_by_State.csv\")\n",
    "infant_df.insert(0, \"ID\", range(0, len(infant_df)))"
   ]
  },
  {
   "cell_type": "code",
   "execution_count": 8,
   "metadata": {},
   "outputs": [],
   "source": [
    "conn = sqlite3.connect(db_file)"
   ]
  },
  {
   "cell_type": "code",
   "execution_count": 9,
   "metadata": {},
   "outputs": [
    {
     "ename": "NameError",
     "evalue": "name 'infant_df' is not defined",
     "output_type": "error",
     "traceback": [
      "\u001b[0;31m---------------------------------------------------------------------------\u001b[0m",
      "\u001b[0;31mNameError\u001b[0m                                 Traceback (most recent call last)",
      "\u001b[0;32m<ipython-input-9-d0399babb178>\u001b[0m in \u001b[0;36m<module>\u001b[0;34m\u001b[0m\n\u001b[0;32m----> 1\u001b[0;31m \u001b[0minfant_df\u001b[0m\u001b[0;34m.\u001b[0m\u001b[0mto_sql\u001b[0m\u001b[0;34m(\u001b[0m\u001b[0;34m\"infant\"\u001b[0m\u001b[0;34m,\u001b[0m \u001b[0mconn\u001b[0m\u001b[0;34m,\u001b[0m \u001b[0mif_exists\u001b[0m\u001b[0;34m=\u001b[0m\u001b[0;34m'append'\u001b[0m\u001b[0;34m,\u001b[0m \u001b[0mindex\u001b[0m\u001b[0;34m=\u001b[0m\u001b[0;32mFalse\u001b[0m\u001b[0;34m)\u001b[0m\u001b[0;34m\u001b[0m\u001b[0;34m\u001b[0m\u001b[0m\n\u001b[0m\u001b[1;32m      2\u001b[0m \u001b[0mteenbirth_df\u001b[0m\u001b[0;34m.\u001b[0m\u001b[0mto_sql\u001b[0m\u001b[0;34m(\u001b[0m\u001b[0;34m\"teen\"\u001b[0m\u001b[0;34m,\u001b[0m \u001b[0mconn\u001b[0m\u001b[0;34m,\u001b[0m \u001b[0mif_exists\u001b[0m\u001b[0;34m=\u001b[0m\u001b[0;34m'append'\u001b[0m\u001b[0;34m,\u001b[0m \u001b[0mindex\u001b[0m\u001b[0;34m=\u001b[0m\u001b[0;32mFalse\u001b[0m\u001b[0;34m)\u001b[0m\u001b[0;34m\u001b[0m\u001b[0;34m\u001b[0m\u001b[0m\n\u001b[1;32m      3\u001b[0m \u001b[0munmarried_df\u001b[0m\u001b[0;34m.\u001b[0m\u001b[0mto_sql\u001b[0m\u001b[0;34m(\u001b[0m\u001b[0;34m\"unmarried\"\u001b[0m\u001b[0;34m,\u001b[0m \u001b[0mconn\u001b[0m\u001b[0;34m,\u001b[0m \u001b[0mif_exists\u001b[0m\u001b[0;34m=\u001b[0m\u001b[0;34m'append'\u001b[0m\u001b[0;34m,\u001b[0m \u001b[0mindex\u001b[0m\u001b[0;34m=\u001b[0m\u001b[0;32mFalse\u001b[0m\u001b[0;34m)\u001b[0m\u001b[0;34m\u001b[0m\u001b[0;34m\u001b[0m\u001b[0m\n\u001b[1;32m      4\u001b[0m \u001b[0mlowweight_df\u001b[0m\u001b[0;34m.\u001b[0m\u001b[0mto_sql\u001b[0m\u001b[0;34m(\u001b[0m\u001b[0;34m\"birthweight\"\u001b[0m\u001b[0;34m,\u001b[0m \u001b[0mconn\u001b[0m\u001b[0;34m,\u001b[0m \u001b[0mif_exists\u001b[0m\u001b[0;34m=\u001b[0m\u001b[0;34m'append'\u001b[0m\u001b[0;34m,\u001b[0m \u001b[0mindex\u001b[0m\u001b[0;34m=\u001b[0m\u001b[0;32mFalse\u001b[0m\u001b[0;34m)\u001b[0m\u001b[0;34m\u001b[0m\u001b[0;34m\u001b[0m\u001b[0m\n",
      "\u001b[0;31mNameError\u001b[0m: name 'infant_df' is not defined"
     ]
    }
   ],
   "source": [
    "infant_df.to_sql(\"infant\", conn, if_exists='append', index=False)\n",
    "teenbirth_df.to_sql(\"teen\", conn, if_exists='append', index=False)\n",
    "unmarried_df.to_sql(\"unmarried\", conn, if_exists='append', index=False)\n",
    "lowweight_df.to_sql(\"birthweight\", conn, if_exists='append', index=False)"
   ]
  },
  {
   "cell_type": "code",
   "execution_count": 10,
   "metadata": {},
   "outputs": [],
   "source": [
    "cursor = conn.cursor()\n",
    "cursor.execute(\"SELECT * FROM birthweight;\")\n",
    "\n",
    "conn.commit()\n",
    "conn.close()"
   ]
  },
  {
   "cell_type": "code",
   "execution_count": 11,
   "metadata": {
    "tags": []
   },
   "outputs": [
    {
     "name": "stdout",
     "output_type": "stream",
     "text": [
      "(0, 2018, 'AL', 10.7, None, '/nchs/pressroom/states/alabama/alabama.htm')\n",
      "(1, 2018, 'AK', 5.9, None, '/nchs/pressroom/states/alaska/alaska.htm')\n",
      "(2, 2018, 'AZ', 7.6, None, '/nchs/pressroom/states/arizona/arizona.htm')\n",
      "(3, 2018, 'AR', 9.4, None, '/nchs/pressroom/states/arkansas/arkansas.htm')\n",
      "(4, 2018, 'CA', 7, None, '/nchs/pressroom/states/california/california.htm')\n",
      "(5, 2018, 'CO', 9.4, None, '/nchs/pressroom/states/colorado/colorado.htm')\n",
      "(6, 2018, 'CT', 7.6, None, '/nchs/pressroom/states/connecticut/connecticut.htm')\n",
      "(7, 2018, 'DE', 8.9, None, '/nchs/pressroom/states/delaware/delaware.htm')\n",
      "(8, 2018, 'FL', 8.7, None, '/nchs/pressroom/states/florida/florida.htm')\n",
      "(9, 2018, 'GA', 10.1, None, '/nchs/pressroom/states/georgia/georgia.htm')\n",
      "(10, 2018, 'HI', 8.3, None, '/nchs/pressroom/states/hawaii/hawaii.htm')\n",
      "(11, 2018, 'ID', 7.3, None, '/nchs/pressroom/states/idaho/idaho.htm')\n",
      "(12, 2018, 'IL', 8.5, None, '/nchs/pressroom/states/illinois/illinois.htm')\n",
      "(13, 2018, 'IN', 8.1, None, '/nchs/pressroom/states/indiana/indiana.htm')\n",
      "(14, 2018, 'IA', 6.9, None, '/nchs/pressroom/states/iowa/iowa.htm')\n",
      "(15, 2018, 'KS', 7.4, None, '/nchs/pressroom/states/kansas/kansas.htm')\n",
      "(16, 2018, 'KY', 8.9, None, '/nchs/pressroom/states/kentucky/kentucky.htm')\n",
      "(17, 2018, 'LA', 10.8, None, '/nchs/pressroom/states/louisiana/louisiana.htm')\n",
      "(18, 2018, 'ME', 7.2, None, '/nchs/pressroom/states/maine/maine.htm')\n",
      "(19, 2018, 'MD', 8.8, None, '/nchs/pressroom/states/maryland/maryland.htm')\n",
      "(20, 2018, 'MA', 7.6, None, '/nchs/pressroom/states/massachusetts/massachusetts.htm')\n",
      "(21, 2018, 'MI', 8.5, None, '/nchs/pressroom/states/michigan/michigan.htm')\n",
      "(22, 2018, 'MN', 6.9, None, '/nchs/pressroom/states/minnesota/minnesota.htm')\n",
      "(23, 2018, 'MS', 12.1, None, '/nchs/pressroom/states/mississippi/mississippi.htm')\n",
      "(24, 2018, 'MO', 8.7, None, '/nchs/pressroom/states/missouri/missouri.htm')\n",
      "(25, 2018, 'MT', 7.4, None, '/nchs/pressroom/states/montana/montana.htm')\n",
      "(26, 2018, 'NE', 7.6, None, '/nchs/pressroom/states/nebraska/nebraska.htm')\n",
      "(27, 2018, 'NV', 8.7, None, '/nchs/pressroom/states/nevada/nevada.htm')\n",
      "(28, 2018, 'NH', 6.8, None, '/nchs/pressroom/states/newhampshire/newhampshire.htm')\n",
      "(29, 2018, 'NJ', 7.9, None, '/nchs/pressroom/states/newjersey/newjersey.htm')\n",
      "(30, 2018, 'NM', 9, None, '/nchs/pressroom/states/newmexico/newmexico.htm')\n",
      "(31, 2018, 'NY', 8.1, None, '/nchs/pressroom/states/newyork/newyork.htm')\n",
      "(32, 2018, 'NC', 9.2, None, '/nchs/pressroom/states/northcarolina/northcarolina.htm')\n",
      "(33, 2018, 'ND', 6.6, None, '/nchs/pressroom/states/northdakota/northdakota.htm')\n",
      "(34, 2018, 'OH', 8.5, None, '/nchs/pressroom/states/ohio/ohio.htm')\n",
      "(35, 2018, 'OK', 8.3, None, '/nchs/pressroom/states/oklahoma/oklahoma.htm')\n",
      "(36, 2018, 'OR', 6.7, None, '/nchs/pressroom/states/oregon/oregon.htm')\n",
      "(37, 2018, 'PA', 8.3, None, '/nchs/pressroom/states/pennsylvania/pennsylvania.htm')\n",
      "(38, 2018, 'RI', 7.6, None, '/nchs/pressroom/states/rhodeisland/rhodeisland.htm')\n",
      "(39, 2018, 'SC', 9.6, None, '/nchs/pressroom/states/southcarolina/southcarolina.htm')\n",
      "(40, 2018, 'SD', 6.6, None, '/nchs/pressroom/states/southdakota/southdakota.htm')\n",
      "(41, 2018, 'TN', 9.3, None, '/nchs/pressroom/states/tenessee/tennessee.htm')\n",
      "(42, 2018, 'TX', 8.5, None, '/nchs/pressroom/states/texas/texas.htm')\n",
      "(43, 2018, 'UT', 7.2, None, '/nchs/pressroom/states/utah/utah.htm')\n",
      "(44, 2018, 'VT', 7, None, '/nchs/pressroom/states/vermont/vermont.htm')\n",
      "(45, 2018, 'VA', 8.2, None, '/nchs/pressroom/states/virginia/virginia.htm')\n",
      "(46, 2018, 'WA', 6.6, None, '/nchs/pressroom/states/washington/washington.htm')\n",
      "(47, 2018, 'WV', 9.4, None, '/nchs/pressroom/states/westvirginia/westvirginia.htm')\n",
      "(48, 2018, 'WI', 7.7, None, '/nchs/pressroom/states/wisconsin/wisconsin.htm')\n",
      "(49, 2018, 'WY', 9.4, None, '/nchs/pressroom/states/wyoming/wyoming.htm')\n",
      "(50, 2017, 'AL', 10.3, None, '/nchs/pressroom/states/alabama/alabama.htm')\n",
      "(51, 2017, 'AK', 6.2, None, '/nchs/pressroom/states/alaska/alaska.htm')\n",
      "(52, 2017, 'AZ', 7.5, None, '/nchs/pressroom/states/arizona/arizona.htm')\n",
      "(53, 2017, 'AR', 9.3, None, '/nchs/pressroom/states/arkansas/arkansas.htm')\n",
      "(54, 2017, 'CA', 6.9, None, '/nchs/pressroom/states/california/california.htm')\n",
      "(55, 2017, 'CO', 9.1, None, '/nchs/pressroom/states/colorado/colorado.htm')\n",
      "(56, 2017, 'CT', 8.1, None, '/nchs/pressroom/states/connecticut/connecticut.htm')\n",
      "(57, 2017, 'DE', 9, None, '/nchs/pressroom/states/delaware/delaware.htm')\n",
      "(58, 2017, 'FL', 8.8, None, '/nchs/pressroom/states/florida/florida.htm')\n",
      "(59, 2017, 'GA', 9.9, None, '/nchs/pressroom/states/georgia/georgia.htm')\n",
      "(60, 2017, 'HI', 8.5, None, '/nchs/pressroom/states/hawaii/hawaii.htm')\n",
      "(61, 2017, 'ID', 7, None, '/nchs/pressroom/states/idaho/idaho.htm')\n",
      "(62, 2017, 'IL', 8.5, None, '/nchs/pressroom/states/illinois/illinois.htm')\n",
      "(63, 2017, 'IN', 8.3, None, '/nchs/pressroom/states/indiana/indiana.htm')\n",
      "(64, 2017, 'IA', 6.6, None, '/nchs/pressroom/states/iowa/iowa.htm')\n",
      "(65, 2017, 'KS', 7.4, None, '/nchs/pressroom/states/kansas/kansas.htm')\n",
      "(66, 2017, 'KY', 8.8, None, '/nchs/pressroom/states/kentucky/kentucky.htm')\n",
      "(67, 2017, 'LA', 10.7, None, '/nchs/pressroom/states/louisiana/louisiana.htm')\n",
      "(68, 2017, 'ME', 7.1, None, '/nchs/pressroom/states/maine/maine.htm')\n",
      "(69, 2017, 'MD', 8.9, None, '/nchs/pressroom/states/maryland/maryland.htm')\n",
      "(70, 2017, 'MA', 7.5, None, '/nchs/pressroom/states/massachusetts/massachusetts.htm')\n",
      "(71, 2017, 'MI', 8.8, None, '/nchs/pressroom/states/michigan/michigan.htm')\n",
      "(72, 2017, 'MN', 6.7, None, '/nchs/pressroom/states/minnesota/minnesota.htm')\n",
      "(73, 2017, 'MS', 11.6, None, '/nchs/pressroom/states/mississippi/mississippi.htm')\n",
      "(74, 2017, 'MO', 8.7, None, '/nchs/pressroom/states/missouri/missouri.htm')\n",
      "(75, 2017, 'MT', 8, None, '/nchs/pressroom/states/montana/montana.htm')\n",
      "(76, 2017, 'NE', 7.5, None, '/nchs/pressroom/states/nebraska/nebraska.htm')\n",
      "(77, 2017, 'NV', 9.1, None, '/nchs/pressroom/states/nevada/nevada.htm')\n",
      "(78, 2017, 'NH', 6.9, None, '/nchs/pressroom/states/newhampshire/newhampshire.htm')\n",
      "(79, 2017, 'NJ', 7.9, None, '/nchs/pressroom/states/newjersey/newjersey.htm')\n",
      "(80, 2017, 'NM', 9.5, None, '/nchs/pressroom/states/newmexico/newmexico.htm')\n",
      "(81, 2017, 'NY', 8.1, None, '/nchs/pressroom/states/newyork/newyork.htm')\n",
      "(82, 2017, 'NC', 9.4, None, '/nchs/pressroom/states/northcarolina/northcarolina.htm')\n",
      "(83, 2017, 'ND', 6.7, None, '/nchs/pressroom/states/northdakota/northdakota.htm')\n",
      "(84, 2017, 'OH', 8.7, None, '/nchs/pressroom/states/ohio/ohio.htm')\n",
      "(85, 2017, 'OK', 8.1, None, '/nchs/pressroom/states/oklahoma/oklahoma.htm')\n",
      "(86, 2017, 'OR', 6.8, None, '/nchs/pressroom/states/oregon/oregon.htm')\n",
      "(87, 2017, 'PA', 8.4, None, '/nchs/pressroom/states/pennsylvania/pennsylvania.htm')\n",
      "(88, 2017, 'RI', 7.5, None, '/nchs/pressroom/states/rhodeisland/rhodeisland.htm')\n",
      "(89, 2017, 'SC', 9.7, None, '/nchs/pressroom/states/southcarolina/southcarolina.htm')\n",
      "(90, 2017, 'SD', 6.9, None, '/nchs/pressroom/states/southdakota/southdakota.htm')\n",
      "(91, 2017, 'TN', 9.2, None, '/nchs/pressroom/states/tenessee/tennessee.htm')\n",
      "(92, 2017, 'TX', 8.4, None, '/nchs/pressroom/states/texas/texas.htm')\n",
      "(93, 2017, 'UT', 7.2, None, '/nchs/pressroom/states/utah/utah.htm')\n",
      "(94, 2017, 'VT', 6.7, None, '/nchs/pressroom/states/vermont/vermont.htm')\n",
      "(95, 2017, 'VA', 8.4, None, '/nchs/pressroom/states/virginia/virginia.htm')\n",
      "(96, 2017, 'WA', 6.6, None, '/nchs/pressroom/states/washington/washington.htm')\n",
      "(97, 2017, 'WV', 9.5, None, '/nchs/pressroom/states/westvirginia/westvirginia.htm')\n",
      "(98, 2017, 'WI', 7.7, None, '/nchs/pressroom/states/wisconsin/wisconsin.htm')\n",
      "(99, 2017, 'WY', 8.7, None, '/nchs/pressroom/states/wyoming/wyoming.htm')\n",
      "(100, 2016, 'AL', 10.3, None, '/nchs/pressroom/states/alabama/alabama.htm')\n",
      "(101, 2016, 'AK', 5.9, None, '/nchs/pressroom/states/alaska/alaska.htm')\n",
      "(102, 2016, 'AZ', 7.3, None, '/nchs/pressroom/states/arizona/arizona.htm')\n",
      "(103, 2016, 'AR', 8.8, None, '/nchs/pressroom/states/arkansas/arkansas.htm')\n",
      "(104, 2016, 'CA', 6.8, None, '/nchs/pressroom/states/california/california.htm')\n",
      "(105, 2016, 'CO', 9, None, '/nchs/pressroom/states/colorado/colorado.htm')\n",
      "(106, 2016, 'CT', 7.8, None, '/nchs/pressroom/states/connecticut/connecticut.htm')\n",
      "(107, 2016, 'DE', 8.9, None, '/nchs/pressroom/states/delaware/delaware.htm')\n",
      "(108, 2016, 'FL', 8.7, None, '/nchs/pressroom/states/florida/florida.htm')\n",
      "(109, 2016, 'GA', 9.8, None, '/nchs/pressroom/states/georgia/georgia.htm')\n",
      "(110, 2016, 'HI', 8.5, None, '/nchs/pressroom/states/hawaii/hawaii.htm')\n",
      "(111, 2016, 'ID', 7, None, '/nchs/pressroom/states/idaho/idaho.htm')\n",
      "(112, 2016, 'IL', 8.4, None, '/nchs/pressroom/states/illinois/illinois.htm')\n",
      "(113, 2016, 'IN', 8.2, None, '/nchs/pressroom/states/indiana/indiana.htm')\n",
      "(114, 2016, 'IA', 6.8, None, '/nchs/pressroom/states/iowa/iowa.htm')\n",
      "(115, 2016, 'KS', 7, None, '/nchs/pressroom/states/kansas/kansas.htm')\n",
      "(116, 2016, 'KY', 9.1, None, '/nchs/pressroom/states/kentucky/kentucky.htm')\n",
      "(117, 2016, 'LA', 10.6, None, '/nchs/pressroom/states/louisiana/louisiana.htm')\n",
      "(118, 2016, 'ME', 7.1, None, '/nchs/pressroom/states/maine/maine.htm')\n",
      "(119, 2016, 'MD', 8.5, None, '/nchs/pressroom/states/maryland/maryland.htm')\n",
      "(120, 2016, 'MA', 7.5, None, '/nchs/pressroom/states/massachusetts/massachusetts.htm')\n",
      "(121, 2016, 'MI', 8.5, None, '/nchs/pressroom/states/michigan/michigan.htm')\n",
      "(122, 2016, 'MN', 6.6, None, '/nchs/pressroom/states/minnesota/minnesota.htm')\n",
      "(123, 2016, 'MS', 11.5, None, '/nchs/pressroom/states/mississippi/mississippi.htm')\n",
      "(124, 2016, 'MO', 8.7, None, '/nchs/pressroom/states/missouri/missouri.htm')\n",
      "(125, 2016, 'MT', 7.9, None, '/nchs/pressroom/states/montana/montana.htm')\n",
      "(126, 2016, 'NE', 7, None, '/nchs/pressroom/states/nebraska/nebraska.htm')\n",
      "(127, 2016, 'NV', 8.5, None, '/nchs/pressroom/states/nevada/nevada.htm')\n",
      "(128, 2016, 'NH', 6.4, None, '/nchs/pressroom/states/newhampshire/newhampshire.htm')\n",
      "(129, 2016, 'NJ', 8.1, None, '/nchs/pressroom/states/newjersey/newjersey.htm')\n",
      "(130, 2016, 'NM', 9, None, '/nchs/pressroom/states/newmexico/newmexico.htm')\n",
      "(131, 2016, 'NY', 7.9, None, '/nchs/pressroom/states/newyork/newyork.htm')\n",
      "(132, 2016, 'NC', 9.2, None, '/nchs/pressroom/states/northcarolina/northcarolina.htm')\n",
      "(133, 2016, 'ND', 6.6, None, '/nchs/pressroom/states/northdakota/northdakota.htm')\n",
      "(134, 2016, 'OH', 8.7, None, '/nchs/pressroom/states/ohio/ohio.htm')\n",
      "(135, 2016, 'OK', 7.8, None, '/nchs/pressroom/states/oklahoma/oklahoma.htm')\n",
      "(136, 2016, 'OR', 6.5, None, '/nchs/pressroom/states/oregon/oregon.htm')\n",
      "(137, 2016, 'PA', 8.2, None, '/nchs/pressroom/states/pennsylvania/pennsylvania.htm')\n",
      "(138, 2016, 'RI', 8, None, '/nchs/pressroom/states/rhodeisland/rhodeisland.htm')\n",
      "(139, 2016, 'SC', 9.6, None, '/nchs/pressroom/states/southcarolina/southcarolina.htm')\n",
      "(140, 2016, 'SD', 6.8, None, '/nchs/pressroom/states/southdakota/southdakota.htm')\n",
      "(141, 2016, 'TN', 9.3, None, '/nchs/pressroom/states/tenessee/tennessee.htm')\n",
      "(142, 2016, 'TX', 8.4, None, '/nchs/pressroom/states/texas/texas.htm')\n",
      "(143, 2016, 'UT', 7.2, None, '/nchs/pressroom/states/utah/utah.htm')\n",
      "(144, 2016, 'VT', 6.9, None, '/nchs/pressroom/states/vermont/vermont.htm')\n",
      "(145, 2016, 'VA', 8.1, None, '/nchs/pressroom/states/virginia/virginia.htm')\n",
      "(146, 2016, 'WA', 6.4, None, '/nchs/pressroom/states/washington/washington.htm')\n",
      "(147, 2016, 'WV', 9.6, None, '/nchs/pressroom/states/westvirginia/westvirginia.htm')\n",
      "(148, 2016, 'WI', 7.4, None, '/nchs/pressroom/states/wisconsin/wisconsin.htm')\n",
      "(149, 2016, 'WY', 8.5, None, '/nchs/pressroom/states/wyoming/wyoming.htm')\n",
      "(150, 2015, 'AL', 10.4, None, '/nchs/pressroom/states/alabama/alabama.htm')\n",
      "(151, 2015, 'AK', 5.8, None, '/nchs/pressroom/states/alaska/alaska.htm')\n",
      "(152, 2015, 'AZ', 7.2, None, '/nchs/pressroom/states/arizona/arizona.htm')\n",
      "(153, 2015, 'AR', 9.2, None, '/nchs/pressroom/states/arkansas/arkansas.htm')\n",
      "(154, 2015, 'CA', 6.8, None, '/nchs/pressroom/states/california/california.htm')\n",
      "(155, 2015, 'CO', 9, None, '/nchs/pressroom/states/colorado/colorado.htm')\n",
      "(156, 2015, 'CT', 7.9, None, '/nchs/pressroom/states/connecticut/connecticut.htm')\n",
      "(157, 2015, 'DE', 9.3, None, '/nchs/pressroom/states/delaware/delaware.htm')\n",
      "(158, 2015, 'FL', 8.6, None, '/nchs/pressroom/states/florida/florida.htm')\n",
      "(159, 2015, 'GA', 9.5, None, '/nchs/pressroom/states/georgia/georgia.htm')\n",
      "(160, 2015, 'HI', 8.3, None, '/nchs/pressroom/states/hawaii/hawaii.htm')\n",
      "(161, 2015, 'ID', 6.6, None, '/nchs/pressroom/states/idaho/idaho.htm')\n",
      "(162, 2015, 'IL', 8.3, None, '/nchs/pressroom/states/illinois/illinois.htm')\n",
      "(163, 2015, 'IN', 8, None, '/nchs/pressroom/states/indiana/indiana.htm')\n",
      "(164, 2015, 'IA', 6.7, None, '/nchs/pressroom/states/iowa/iowa.htm')\n",
      "(165, 2015, 'KS', 6.8, None, '/nchs/pressroom/states/kansas/kansas.htm')\n",
      "(166, 2015, 'KY', 8.7, None, '/nchs/pressroom/states/kentucky/kentucky.htm')\n",
      "(167, 2015, 'LA', 10.6, None, '/nchs/pressroom/states/louisiana/louisiana.htm')\n",
      "(168, 2015, 'ME', 6.9, None, '/nchs/pressroom/states/maine/maine.htm')\n",
      "(169, 2015, 'MD', 8.6, None, '/nchs/pressroom/states/maryland/maryland.htm')\n",
      "(170, 2015, 'MA', 7.5, None, '/nchs/pressroom/states/massachusetts/massachusetts.htm')\n",
      "(171, 2015, 'MI', 8.5, None, '/nchs/pressroom/states/michigan/michigan.htm')\n",
      "(172, 2015, 'MN', 6.4, None, '/nchs/pressroom/states/minnesota/minnesota.htm')\n",
      "(173, 2015, 'MS', 11.4, None, '/nchs/pressroom/states/mississippi/mississippi.htm')\n",
      "(174, 2015, 'MO', 8.3, None, '/nchs/pressroom/states/missouri/missouri.htm')\n",
      "(175, 2015, 'MT', 7.1, None, '/nchs/pressroom/states/montana/montana.htm')\n",
      "(176, 2015, 'NE', 7.1, None, '/nchs/pressroom/states/nebraska/nebraska.htm')\n",
      "(177, 2015, 'NV', 8.5, None, '/nchs/pressroom/states/nevada/nevada.htm')\n",
      "(178, 2015, 'NH', 6.9, None, '/nchs/pressroom/states/newhampshire/newhampshire.htm')\n",
      "(179, 2015, 'NJ', 8.1, None, '/nchs/pressroom/states/newjersey/newjersey.htm')\n",
      "(180, 2015, 'NM', 8.7, None, '/nchs/pressroom/states/newmexico/newmexico.htm')\n",
      "(181, 2015, 'NY', 7.8, None, '/nchs/pressroom/states/newyork/newyork.htm')\n",
      "(182, 2015, 'NC', 9.1, None, '/nchs/pressroom/states/northcarolina/northcarolina.htm')\n",
      "(183, 2015, 'ND', 6.2, None, '/nchs/pressroom/states/northdakota/northdakota.htm')\n",
      "(184, 2015, 'OH', 8.5, None, '/nchs/pressroom/states/ohio/ohio.htm')\n",
      "(185, 2015, 'OK', 7.9, None, '/nchs/pressroom/states/oklahoma/oklahoma.htm')\n",
      "(186, 2015, 'OR', 6.4, None, '/nchs/pressroom/states/oregon/oregon.htm')\n",
      "(187, 2015, 'PA', 8.2, None, '/nchs/pressroom/states/pennsylvania/pennsylvania.htm')\n",
      "(188, 2015, 'RI', 7.6, None, '/nchs/pressroom/states/rhodeisland/rhodeisland.htm')\n",
      "(189, 2015, 'SC', 9.5, None, '/nchs/pressroom/states/southcarolina/southcarolina.htm')\n",
      "(190, 2015, 'SD', 6.1, None, '/nchs/pressroom/states/southdakota/southdakota.htm')\n",
      "(191, 2015, 'TN', 9.2, None, '/nchs/pressroom/states/tenessee/tennessee.htm')\n",
      "(192, 2015, 'TX', 8.2, None, '/nchs/pressroom/states/texas/texas.htm')\n",
      "(193, 2015, 'UT', 7, None, '/nchs/pressroom/states/utah/utah.htm')\n",
      "(194, 2015, 'VT', 6.6, None, '/nchs/pressroom/states/vermont/vermont.htm')\n",
      "(195, 2015, 'VA', 7.9, None, '/nchs/pressroom/states/virginia/virginia.htm')\n",
      "(196, 2015, 'WA', 6.4, None, '/nchs/pressroom/states/washington/washington.htm')\n",
      "(197, 2015, 'WV', 9.6, None, '/nchs/pressroom/states/westvirginia/westvirginia.htm')\n",
      "(198, 2015, 'WI', 7.3, None, '/nchs/pressroom/states/wisconsin/wisconsin.htm')\n",
      "(199, 2015, 'WY', 8.6, None, '/nchs/pressroom/states/wyoming/wyoming.htm')\n",
      "(200, 2014, 'AL', 10.1, None, '/nchs/pressroom/states/alabama/alabama.htm')\n",
      "(201, 2014, 'AK', 5.9, None, '/nchs/pressroom/states/alaska/alaska.htm')\n",
      "(202, 2014, 'AZ', 7, None, '/nchs/pressroom/states/arizona/arizona.htm')\n",
      "(203, 2014, 'AR', 8.9, None, '/nchs/pressroom/states/arkansas/arkansas.htm')\n",
      "(204, 2014, 'CA', 6.7, None, '/nchs/pressroom/states/california/california.htm')\n",
      "(205, 2014, 'CO', 8.8, None, '/nchs/pressroom/states/colorado/colorado.htm')\n",
      "(206, 2014, 'CT', 7.6, None, '/nchs/pressroom/states/connecticut/connecticut.htm')\n",
      "(207, 2014, 'DE', 8.3, None, '/nchs/pressroom/states/delaware/delaware.htm')\n",
      "(208, 2014, 'FL', 8.7, None, '/nchs/pressroom/states/florida/florida.htm')\n",
      "(209, 2014, 'GA', 9.5, None, '/nchs/pressroom/states/georgia/georgia.htm')\n",
      "(210, 2014, 'HI', 7.9, None, '/nchs/pressroom/states/hawaii/hawaii.htm')\n",
      "(211, 2014, 'ID', 6.4, None, '/nchs/pressroom/states/idaho/idaho.htm')\n",
      "(212, 2014, 'IL', 8.2, None, '/nchs/pressroom/states/illinois/illinois.htm')\n",
      "(213, 2014, 'IN', 8, None, '/nchs/pressroom/states/indiana/indiana.htm')\n",
      "(214, 2014, 'IA', 6.7, None, '/nchs/pressroom/states/iowa/iowa.htm')\n",
      "(215, 2014, 'KS', 7, None, '/nchs/pressroom/states/kansas/kansas.htm')\n",
      "(216, 2014, 'KY', 8.8, None, '/nchs/pressroom/states/kentucky/kentucky.htm')\n",
      "(217, 2014, 'LA', 10.5, None, '/nchs/pressroom/states/louisiana/louisiana.htm')\n",
      "(218, 2014, 'ME', 7.6, None, '/nchs/pressroom/states/maine/maine.htm')\n",
      "(219, 2014, 'MD', 8.6, None, '/nchs/pressroom/states/maryland/maryland.htm')\n",
      "(220, 2014, 'MA', 7.5, None, '/nchs/pressroom/states/massachusetts/massachusetts.htm')\n",
      "(221, 2014, 'MI', 8.4, None, '/nchs/pressroom/states/michigan/michigan.htm')\n",
      "(222, 2014, 'MN', 6.6, None, '/nchs/pressroom/states/minnesota/minnesota.htm')\n",
      "(223, 2014, 'MS', 11.3, None, '/nchs/pressroom/states/mississippi/mississippi.htm')\n",
      "(224, 2014, 'MO', 8.2, None, '/nchs/pressroom/states/missouri/missouri.htm')\n",
      "(225, 2014, 'MT', 7.4, None, '/nchs/pressroom/states/montana/montana.htm')\n",
      "(226, 2014, 'NE', 6.6, None, '/nchs/pressroom/states/nebraska/nebraska.htm')\n",
      "(227, 2014, 'NV', 8.3, None, '/nchs/pressroom/states/nevada/nevada.htm')\n",
      "(228, 2014, 'NH', 6.9, None, '/nchs/pressroom/states/newhampshire/newhampshire.htm')\n",
      "(229, 2014, 'NJ', 8.1, None, '/nchs/pressroom/states/newjersey/newjersey.htm')\n",
      "(230, 2014, 'NM', 8.8, None, '/nchs/pressroom/states/newmexico/newmexico.htm')\n",
      "(231, 2014, 'NY', 7.9, None, '/nchs/pressroom/states/newyork/newyork.htm')\n",
      "(232, 2014, 'NC', 8.9, None, '/nchs/pressroom/states/northcarolina/northcarolina.htm')\n",
      "(233, 2014, 'ND', 6.2, None, '/nchs/pressroom/states/northdakota/northdakota.htm')\n",
      "(234, 2014, 'OH', 8.5, None, '/nchs/pressroom/states/ohio/ohio.htm')\n",
      "(235, 2014, 'OK', 8, None, '/nchs/pressroom/states/oklahoma/oklahoma.htm')\n",
      "(236, 2014, 'OR', 6.2, None, '/nchs/pressroom/states/oregon/oregon.htm')\n",
      "(237, 2014, 'PA', 8.3, None, '/nchs/pressroom/states/pennsylvania/pennsylvania.htm')\n",
      "(238, 2014, 'RI', 7.1, None, '/nchs/pressroom/states/rhodeisland/rhodeisland.htm')\n",
      "(239, 2014, 'SC', 9.4, None, '/nchs/pressroom/states/southcarolina/southcarolina.htm')\n",
      "(240, 2014, 'SD', 6.5, None, '/nchs/pressroom/states/southdakota/southdakota.htm')\n",
      "(241, 2014, 'TN', 9, None, '/nchs/pressroom/states/tenessee/tennessee.htm')\n",
      "(242, 2014, 'TX', 8.2, None, '/nchs/pressroom/states/texas/texas.htm')\n",
      "(243, 2014, 'UT', 7, None, '/nchs/pressroom/states/utah/utah.htm')\n",
      "(244, 2014, 'VT', 7.1, None, '/nchs/pressroom/states/vermont/vermont.htm')\n",
      "(245, 2014, 'VA', 7.9, None, '/nchs/pressroom/states/virginia/virginia.htm')\n",
      "(246, 2014, 'WA', 6.4, None, '/nchs/pressroom/states/washington/washington.htm')\n",
      "(247, 2014, 'WV', 9.1, None, '/nchs/pressroom/states/westvirginia/westvirginia.htm')\n",
      "(248, 2014, 'WI', 7.3, None, '/nchs/pressroom/states/wisconsin/wisconsin.htm')\n",
      "(249, 2014, 'WY', 9.2, None, '/nchs/pressroom/states/wyoming/wyoming.htm')\n",
      "(250, 2005, 'AL', 10.7, None, '/nchs/pressroom/states/alabama/alabama.htm')\n",
      "(251, 2005, 'AK', 6.1, None, '/nchs/pressroom/states/alaska/alaska.htm')\n",
      "(252, 2005, 'AZ', 6.9, None, '/nchs/pressroom/states/arizona/arizona.htm')\n",
      "(253, 2005, 'AR', 8.9, None, '/nchs/pressroom/states/arkansas/arkansas.htm')\n",
      "(254, 2005, 'CA', 6.9, None, '/nchs/pressroom/states/california/california.htm')\n",
      "(255, 2005, 'CO', 9.2, None, '/nchs/pressroom/states/colorado/colorado.htm')\n",
      "(256, 2005, 'CT', 8, None, '/nchs/pressroom/states/connecticut/connecticut.htm')\n",
      "(257, 2005, 'DE', 9.5, None, '/nchs/pressroom/states/delaware/delaware.htm')\n",
      "(258, 2005, 'FL', 8.7, None, '/nchs/pressroom/states/florida/florida.htm')\n",
      "(259, 2005, 'GA', 9.5, None, '/nchs/pressroom/states/georgia/georgia.htm')\n",
      "(260, 2005, 'HI', 8.2, None, '/nchs/pressroom/states/hawaii/hawaii.htm')\n",
      "(261, 2005, 'ID', 6.7, None, '/nchs/pressroom/states/idaho/idaho.htm')\n",
      "(262, 2005, 'IL', 8.5, None, '/nchs/pressroom/states/illinois/illinois.htm')\n",
      "(263, 2005, 'IN', 8.3, None, '/nchs/pressroom/states/indiana/indiana.htm')\n",
      "(264, 2005, 'IA', 7.2, None, '/nchs/pressroom/states/iowa/iowa.htm')\n",
      "(265, 2005, 'KS', 7.2, None, '/nchs/pressroom/states/kansas/kansas.htm')\n",
      "(266, 2005, 'KY', 9.1, None, '/nchs/pressroom/states/kentucky/kentucky.htm')\n",
      "(267, 2005, 'LA', 11.5, None, '/nchs/pressroom/states/louisiana/louisiana.htm')\n",
      "(268, 2005, 'ME', 6.8, None, '/nchs/pressroom/states/maine/maine.htm')\n",
      "(269, 2005, 'MD', 9.1, None, '/nchs/pressroom/states/maryland/maryland.htm')\n",
      "(270, 2005, 'MA', 7.9, None, '/nchs/pressroom/states/massachusetts/massachusetts.htm')\n",
      "(271, 2005, 'MI', 8.3, None, '/nchs/pressroom/states/michigan/michigan.htm')\n",
      "(272, 2005, 'MN', 6.5, None, '/nchs/pressroom/states/minnesota/minnesota.htm')\n",
      "(273, 2005, 'MS', 11.8, None, '/nchs/pressroom/states/mississippi/mississippi.htm')\n",
      "(274, 2005, 'MO', 8.1, None, '/nchs/pressroom/states/missouri/missouri.htm')\n",
      "(275, 2005, 'MT', 6.6, None, '/nchs/pressroom/states/montana/montana.htm')\n",
      "(276, 2005, 'NE', 7, None, '/nchs/pressroom/states/nebraska/nebraska.htm')\n",
      "(277, 2005, 'NV', 8.3, None, '/nchs/pressroom/states/nevada/nevada.htm')\n",
      "(278, 2005, 'NH', 7, None, '/nchs/pressroom/states/newhampshire/newhampshire.htm')\n",
      "(279, 2005, 'NJ', 8.2, None, '/nchs/pressroom/states/newjersey/newjersey.htm')\n",
      "(280, 2005, 'NM', 8.5, None, '/nchs/pressroom/states/newmexico/newmexico.htm')\n",
      "(281, 2005, 'NY', 8.3, None, '/nchs/pressroom/states/newyork/newyork.htm')\n",
      "(282, 2005, 'NC', 9.2, None, '/nchs/pressroom/states/northcarolina/northcarolina.htm')\n",
      "(283, 2005, 'ND', 6.4, None, '/nchs/pressroom/states/northdakota/northdakota.htm')\n",
      "(284, 2005, 'OH', 8.7, None, '/nchs/pressroom/states/ohio/ohio.htm')\n",
      "(285, 2005, 'OK', 8, None, '/nchs/pressroom/states/oklahoma/oklahoma.htm')\n",
      "(286, 2005, 'OR', 6.1, None, '/nchs/pressroom/states/oregon/oregon.htm')\n",
      "(287, 2005, 'PA', 8.4, None, '/nchs/pressroom/states/pennsylvania/pennsylvania.htm')\n",
      "(288, 2005, 'RI', 7.8, None, '/nchs/pressroom/states/rhodeisland/rhodeisland.htm')\n",
      "(289, 2005, 'SC', 10.2, None, '/nchs/pressroom/states/southcarolina/southcarolina.htm')\n",
      "(290, 2005, 'SD', 6.6, None, '/nchs/pressroom/states/southdakota/southdakota.htm')\n",
      "(291, 2005, 'TN', 9.5, None, '/nchs/pressroom/states/tenessee/tennessee.htm')\n",
      "(292, 2005, 'TX', 8.3, None, '/nchs/pressroom/states/texas/texas.htm')\n",
      "(293, 2005, 'UT', 6.8, None, '/nchs/pressroom/states/utah/utah.htm')\n",
      "(294, 2005, 'VT', 6.2, None, '/nchs/pressroom/states/vermont/vermont.htm')\n",
      "(295, 2005, 'VA', 8.2, None, '/nchs/pressroom/states/virginia/virginia.htm')\n",
      "(296, 2005, 'WA', 6.1, None, '/nchs/pressroom/states/washington/washington.htm')\n",
      "(297, 2005, 'WV', 9.6, None, '/nchs/pressroom/states/westvirginia/westvirginia.htm')\n",
      "(298, 2005, 'WI', 7, None, '/nchs/pressroom/states/wisconsin/wisconsin.htm')\n",
      "(299, 2005, 'WY', 8.6, None, '/nchs/pressroom/states/wyoming/wyoming.htm')\n",
      "(300, None, None, None, None, None)\n"
     ]
    }
   ],
   "source": [
    "\n",
    "conn = sqlite3.connect(db_file)\n",
    "\n",
    "def sql_fetch(conn):\n",
    "\n",
    "    cursorObj = conn.cursor()\n",
    "\n",
    "    cursorObj.execute('SELECT * FROM birthweight')\n",
    "\n",
    "    rows = cursorObj.fetchall()\n",
    "\n",
    "    for row in rows:\n",
    "\n",
    "        print(row)\n",
    "\n",
    "sql_fetch(conn)\n",
    "\n",
    "conn.close()"
   ]
  },
  {
   "cell_type": "code",
   "execution_count": 27,
   "metadata": {},
   "outputs": [
    {
     "ename": "OperationalError",
     "evalue": "table medianincome already exists",
     "output_type": "error",
     "traceback": [
      "\u001b[0;31m---------------------------------------------------------------------------\u001b[0m",
      "\u001b[0;31mOperationalError\u001b[0m                          Traceback (most recent call last)",
      "\u001b[0;32m<ipython-input-27-af0848c10aa4>\u001b[0m in \u001b[0;36m<module>\u001b[0;34m\u001b[0m\n\u001b[1;32m     14\u001b[0m    \u001b[0mMEDIANINCOME\u001b[0m \u001b[0mINT\u001b[0m\u001b[0;34m\u001b[0m\u001b[0;34m\u001b[0m\u001b[0m\n\u001b[1;32m     15\u001b[0m )'''\n\u001b[0;32m---> 16\u001b[0;31m \u001b[0mcursor\u001b[0m\u001b[0;34m.\u001b[0m\u001b[0mexecute\u001b[0m\u001b[0;34m(\u001b[0m\u001b[0msql\u001b[0m\u001b[0;34m)\u001b[0m\u001b[0;34m\u001b[0m\u001b[0;34m\u001b[0m\u001b[0m\n\u001b[0m\u001b[1;32m     17\u001b[0m \u001b[0mprint\u001b[0m\u001b[0;34m(\u001b[0m\u001b[0;34m\"Table created successfully........\"\u001b[0m\u001b[0;34m)\u001b[0m\u001b[0;34m\u001b[0m\u001b[0;34m\u001b[0m\u001b[0m\n\u001b[1;32m     18\u001b[0m \u001b[0;34m\u001b[0m\u001b[0m\n",
      "\u001b[0;31mOperationalError\u001b[0m: table medianincome already exists"
     ]
    }
   ],
   "source": [
    "conn = sqlite3.connect(db_file)\n",
    "\n",
    "#Creating a cursor object using the cursor() method\n",
    "cursor = conn.cursor()\n",
    "\n",
    "#Dropping INFANT_MORTALITY table if already exists.\n",
    "# cursor.execute(\"DROP TABLE IF EXISTS medianincome\")\n",
    "\n",
    "#Creating table as per requirement\n",
    "sql ='''CREATE TABLE medianincome( \n",
    "   ID INT PRIMARY KEY,\n",
    "   YEAR INT,\n",
    "   STATE CHAR(2),\n",
    "   MEDIANINCOME INT\n",
    ")'''\n",
    "cursor.execute(sql)\n",
    "print(\"Table created successfully........\")\n",
    "\n",
    "# Commit your changes in the database\n",
    "conn.commit()\n",
    "\n",
    "#Closing the connection\n",
    "conn.close()"
   ]
  },
  {
   "cell_type": "code",
   "execution_count": 11,
   "metadata": {
    "tags": []
   },
   "outputs": [
    {
     "output_type": "stream",
     "name": "stdout",
     "text": "Table created successfully.............\n"
    }
   ],
   "source": [
    "conn = sqlite3.connect(db_file)\n",
    "\n",
    "cursor = conn.cursor()\n",
    "\n",
    "sql ='''CREATE TABLE infantlatest( \n",
    "   ID INT PRIMARY KEY,\n",
    "   YEAR INT,\n",
    "   STATE CHAR(2),\n",
    "   RATE INT,\n",
    "   DEATHS INT,\n",
    "   URL CHAR\n",
    ")'''\n",
    "cursor.execute(sql)\n",
    "print(\"Table created successfully.............\")\n",
    "\n",
    "conn.commit()\n",
    "\n",
    "conn.close()"
   ]
  },
  {
   "cell_type": "code",
   "execution_count": 27,
   "metadata": {
    "tags": []
   },
   "outputs": [
    {
     "output_type": "stream",
     "name": "stdout",
     "text": "Table created successfully.............\n"
    }
   ],
   "source": [
    "conn = sqlite3.connect(db_file)\n",
    "\n",
    "cursor = conn.cursor()\n",
    "\n",
    "sql ='''CREATE TABLE teen2018( \n",
    "   ID INT PRIMARY KEY,\n",
    "   YEAR INT,\n",
    "   STATE CHAR(2),\n",
    "   RATE INT,\n",
    "   URL CHAR\n",
    ")'''\n",
    "cursor.execute(sql)\n",
    "print(\"Table created successfully.............\")\n",
    "\n",
    "conn.commit()\n",
    "\n",
    "conn.close()"
   ]
  },
  {
   "cell_type": "code",
   "execution_count": 39,
   "metadata": {
    "tags": []
   },
   "outputs": [
    {
     "output_type": "stream",
     "name": "stdout",
     "text": "Table created successfully.............\n"
    }
   ],
   "source": [
    "conn = sqlite3.connect(db_file)\n",
    "\n",
    "cursor = conn.cursor()\n",
    "\n",
    "sql ='''CREATE TABLE unmarried2018( \n",
    "   ID INT PRIMARY KEY,\n",
    "   YEAR INT,\n",
    "   STATE CHAR(2),\n",
    "   RATE INT,\n",
    "   URL CHAR\n",
    ")'''\n",
    "cursor.execute(sql)\n",
    "print(\"Table created successfully.............\")\n",
    "\n",
    "conn.commit()\n",
    "\n",
    "conn.close()"
   ]
  },
  {
   "cell_type": "code",
   "execution_count": 49,
   "metadata": {
    "tags": []
   },
   "outputs": [
    {
     "output_type": "stream",
     "name": "stdout",
     "text": "Table created successfully.............\n"
    }
   ],
   "source": [
    "conn = sqlite3.connect(db_file)\n",
    "\n",
    "cursor = conn.cursor()\n",
    "\n",
    "sql ='''CREATE TABLE birthweight2018( \n",
    "   ID INT PRIMARY KEY,\n",
    "   YEAR INT,\n",
    "   STATE CHAR(2),\n",
    "   RATE INT,\n",
    "   URL CHAR\n",
    ")'''\n",
    "cursor.execute(sql)\n",
    "print(\"Table created successfully.............\")\n",
    "\n",
    "conn.commit()\n",
    "\n",
    "conn.close()"
   ]
  },
  {
   "cell_type": "code",
   "execution_count": 28,
   "metadata": {},
   "outputs": [],
   "source": [
    "medianincome_df = pd.read_csv(\"MedianIncome2018byState.csv\")\n",
    "medianincome_df.insert(0, \"ID\", range(0, len(medianincome_df)))"
   ]
  },
  {
   "cell_type": "code",
   "execution_count": 29,
   "metadata": {},
   "outputs": [
    {
     "ename": "IntegrityError",
     "evalue": "UNIQUE constraint failed: medianincome.ID",
     "output_type": "error",
     "traceback": [
      "\u001b[0;31m---------------------------------------------------------------------------\u001b[0m",
      "\u001b[0;31mIntegrityError\u001b[0m                            Traceback (most recent call last)",
      "\u001b[0;32m<ipython-input-29-8bf76afbcae5>\u001b[0m in \u001b[0;36m<module>\u001b[0;34m\u001b[0m\n\u001b[0;32m----> 1\u001b[0;31m \u001b[0mmedianincome_df\u001b[0m\u001b[0;34m.\u001b[0m\u001b[0mto_sql\u001b[0m\u001b[0;34m(\u001b[0m\u001b[0;34m\"medianincome\"\u001b[0m\u001b[0;34m,\u001b[0m \u001b[0mconn\u001b[0m\u001b[0;34m,\u001b[0m \u001b[0mif_exists\u001b[0m\u001b[0;34m=\u001b[0m\u001b[0;34m'append'\u001b[0m\u001b[0;34m,\u001b[0m \u001b[0mindex\u001b[0m\u001b[0;34m=\u001b[0m\u001b[0;32mFalse\u001b[0m\u001b[0;34m)\u001b[0m\u001b[0;34m\u001b[0m\u001b[0;34m\u001b[0m\u001b[0m\n\u001b[0m",
      "\u001b[0;32m~/opt/anaconda3/lib/python3.7/site-packages/pandas/core/generic.py\u001b[0m in \u001b[0;36mto_sql\u001b[0;34m(self, name, con, schema, if_exists, index, index_label, chunksize, dtype, method)\u001b[0m\n\u001b[1;32m   2710\u001b[0m             \u001b[0mchunksize\u001b[0m\u001b[0;34m=\u001b[0m\u001b[0mchunksize\u001b[0m\u001b[0;34m,\u001b[0m\u001b[0;34m\u001b[0m\u001b[0;34m\u001b[0m\u001b[0m\n\u001b[1;32m   2711\u001b[0m             \u001b[0mdtype\u001b[0m\u001b[0;34m=\u001b[0m\u001b[0mdtype\u001b[0m\u001b[0;34m,\u001b[0m\u001b[0;34m\u001b[0m\u001b[0;34m\u001b[0m\u001b[0m\n\u001b[0;32m-> 2712\u001b[0;31m             \u001b[0mmethod\u001b[0m\u001b[0;34m=\u001b[0m\u001b[0mmethod\u001b[0m\u001b[0;34m,\u001b[0m\u001b[0;34m\u001b[0m\u001b[0;34m\u001b[0m\u001b[0m\n\u001b[0m\u001b[1;32m   2713\u001b[0m         )\n\u001b[1;32m   2714\u001b[0m \u001b[0;34m\u001b[0m\u001b[0m\n",
      "\u001b[0;32m~/opt/anaconda3/lib/python3.7/site-packages/pandas/io/sql.py\u001b[0m in \u001b[0;36mto_sql\u001b[0;34m(frame, name, con, schema, if_exists, index, index_label, chunksize, dtype, method)\u001b[0m\n\u001b[1;32m    516\u001b[0m         \u001b[0mchunksize\u001b[0m\u001b[0;34m=\u001b[0m\u001b[0mchunksize\u001b[0m\u001b[0;34m,\u001b[0m\u001b[0;34m\u001b[0m\u001b[0;34m\u001b[0m\u001b[0m\n\u001b[1;32m    517\u001b[0m         \u001b[0mdtype\u001b[0m\u001b[0;34m=\u001b[0m\u001b[0mdtype\u001b[0m\u001b[0;34m,\u001b[0m\u001b[0;34m\u001b[0m\u001b[0;34m\u001b[0m\u001b[0m\n\u001b[0;32m--> 518\u001b[0;31m         \u001b[0mmethod\u001b[0m\u001b[0;34m=\u001b[0m\u001b[0mmethod\u001b[0m\u001b[0;34m,\u001b[0m\u001b[0;34m\u001b[0m\u001b[0;34m\u001b[0m\u001b[0m\n\u001b[0m\u001b[1;32m    519\u001b[0m     )\n\u001b[1;32m    520\u001b[0m \u001b[0;34m\u001b[0m\u001b[0m\n",
      "\u001b[0;32m~/opt/anaconda3/lib/python3.7/site-packages/pandas/io/sql.py\u001b[0m in \u001b[0;36mto_sql\u001b[0;34m(self, frame, name, if_exists, index, index_label, schema, chunksize, dtype, method)\u001b[0m\n\u001b[1;32m   1748\u001b[0m         )\n\u001b[1;32m   1749\u001b[0m         \u001b[0mtable\u001b[0m\u001b[0;34m.\u001b[0m\u001b[0mcreate\u001b[0m\u001b[0;34m(\u001b[0m\u001b[0;34m)\u001b[0m\u001b[0;34m\u001b[0m\u001b[0;34m\u001b[0m\u001b[0m\n\u001b[0;32m-> 1750\u001b[0;31m         \u001b[0mtable\u001b[0m\u001b[0;34m.\u001b[0m\u001b[0minsert\u001b[0m\u001b[0;34m(\u001b[0m\u001b[0mchunksize\u001b[0m\u001b[0;34m,\u001b[0m \u001b[0mmethod\u001b[0m\u001b[0;34m)\u001b[0m\u001b[0;34m\u001b[0m\u001b[0;34m\u001b[0m\u001b[0m\n\u001b[0m\u001b[1;32m   1751\u001b[0m \u001b[0;34m\u001b[0m\u001b[0m\n\u001b[1;32m   1752\u001b[0m     \u001b[0;32mdef\u001b[0m \u001b[0mhas_table\u001b[0m\u001b[0;34m(\u001b[0m\u001b[0mself\u001b[0m\u001b[0;34m,\u001b[0m \u001b[0mname\u001b[0m\u001b[0;34m,\u001b[0m \u001b[0mschema\u001b[0m\u001b[0;34m=\u001b[0m\u001b[0;32mNone\u001b[0m\u001b[0;34m)\u001b[0m\u001b[0;34m:\u001b[0m\u001b[0;34m\u001b[0m\u001b[0;34m\u001b[0m\u001b[0m\n",
      "\u001b[0;32m~/opt/anaconda3/lib/python3.7/site-packages/pandas/io/sql.py\u001b[0m in \u001b[0;36minsert\u001b[0;34m(self, chunksize, method)\u001b[0m\n\u001b[1;32m    754\u001b[0m \u001b[0;34m\u001b[0m\u001b[0m\n\u001b[1;32m    755\u001b[0m                 \u001b[0mchunk_iter\u001b[0m \u001b[0;34m=\u001b[0m \u001b[0mzip\u001b[0m\u001b[0;34m(\u001b[0m\u001b[0;34m*\u001b[0m\u001b[0;34m[\u001b[0m\u001b[0marr\u001b[0m\u001b[0;34m[\u001b[0m\u001b[0mstart_i\u001b[0m\u001b[0;34m:\u001b[0m\u001b[0mend_i\u001b[0m\u001b[0;34m]\u001b[0m \u001b[0;32mfor\u001b[0m \u001b[0marr\u001b[0m \u001b[0;32min\u001b[0m \u001b[0mdata_list\u001b[0m\u001b[0;34m]\u001b[0m\u001b[0;34m)\u001b[0m\u001b[0;34m\u001b[0m\u001b[0;34m\u001b[0m\u001b[0m\n\u001b[0;32m--> 756\u001b[0;31m                 \u001b[0mexec_insert\u001b[0m\u001b[0;34m(\u001b[0m\u001b[0mconn\u001b[0m\u001b[0;34m,\u001b[0m \u001b[0mkeys\u001b[0m\u001b[0;34m,\u001b[0m \u001b[0mchunk_iter\u001b[0m\u001b[0;34m)\u001b[0m\u001b[0;34m\u001b[0m\u001b[0;34m\u001b[0m\u001b[0m\n\u001b[0m\u001b[1;32m    757\u001b[0m \u001b[0;34m\u001b[0m\u001b[0m\n\u001b[1;32m    758\u001b[0m     def _query_iterator(\n",
      "\u001b[0;32m~/opt/anaconda3/lib/python3.7/site-packages/pandas/io/sql.py\u001b[0m in \u001b[0;36m_execute_insert\u001b[0;34m(self, conn, keys, data_iter)\u001b[0m\n\u001b[1;32m   1466\u001b[0m     \u001b[0;32mdef\u001b[0m \u001b[0m_execute_insert\u001b[0m\u001b[0;34m(\u001b[0m\u001b[0mself\u001b[0m\u001b[0;34m,\u001b[0m \u001b[0mconn\u001b[0m\u001b[0;34m,\u001b[0m \u001b[0mkeys\u001b[0m\u001b[0;34m,\u001b[0m \u001b[0mdata_iter\u001b[0m\u001b[0;34m)\u001b[0m\u001b[0;34m:\u001b[0m\u001b[0;34m\u001b[0m\u001b[0;34m\u001b[0m\u001b[0m\n\u001b[1;32m   1467\u001b[0m         \u001b[0mdata_list\u001b[0m \u001b[0;34m=\u001b[0m \u001b[0mlist\u001b[0m\u001b[0;34m(\u001b[0m\u001b[0mdata_iter\u001b[0m\u001b[0;34m)\u001b[0m\u001b[0;34m\u001b[0m\u001b[0;34m\u001b[0m\u001b[0m\n\u001b[0;32m-> 1468\u001b[0;31m         \u001b[0mconn\u001b[0m\u001b[0;34m.\u001b[0m\u001b[0mexecutemany\u001b[0m\u001b[0;34m(\u001b[0m\u001b[0mself\u001b[0m\u001b[0;34m.\u001b[0m\u001b[0minsert_statement\u001b[0m\u001b[0;34m(\u001b[0m\u001b[0;34m)\u001b[0m\u001b[0;34m,\u001b[0m \u001b[0mdata_list\u001b[0m\u001b[0;34m)\u001b[0m\u001b[0;34m\u001b[0m\u001b[0;34m\u001b[0m\u001b[0m\n\u001b[0m\u001b[1;32m   1469\u001b[0m \u001b[0;34m\u001b[0m\u001b[0m\n\u001b[1;32m   1470\u001b[0m     \u001b[0;32mdef\u001b[0m \u001b[0m_create_table_setup\u001b[0m\u001b[0;34m(\u001b[0m\u001b[0mself\u001b[0m\u001b[0;34m)\u001b[0m\u001b[0;34m:\u001b[0m\u001b[0;34m\u001b[0m\u001b[0;34m\u001b[0m\u001b[0m\n",
      "\u001b[0;31mIntegrityError\u001b[0m: UNIQUE constraint failed: medianincome.ID"
     ]
    }
   ],
   "source": [
    "medianincome_df.to_sql(\"medianincome\", conn, if_exists='append', index=False)"
   ]
  },
  {
   "cell_type": "code",
   "execution_count": null,
   "metadata": {},
   "outputs": [],
   "source": []
  },
  {
   "cell_type": "code",
   "execution_count": 4,
   "metadata": {},
   "outputs": [
    {
     "output_type": "execute_result",
     "data": {
      "text/plain": "     YEAR STATE  RATE DEATHS                                       URL\n0  2018.0    AL   7.0    405     /nchs/pressroom/states/alabama/al.htm\n1  2018.0    AK   5.9     60      /nchs/pressroom/states/alaska/ak.htm\n2  2018.0    AZ   5.6    451     /nchs/pressroom/states/arizona/az.htm\n3  2018.0    AR   7.5    279    /nchs/pressroom/states/arkansas/ar.htm\n4  2018.0    CA   4.2   1909  /nchs/pressroom/states/california/ca.htm",
      "text/html": "<div>\n<style scoped>\n    .dataframe tbody tr th:only-of-type {\n        vertical-align: middle;\n    }\n\n    .dataframe tbody tr th {\n        vertical-align: top;\n    }\n\n    .dataframe thead th {\n        text-align: right;\n    }\n</style>\n<table border=\"1\" class=\"dataframe\">\n  <thead>\n    <tr style=\"text-align: right;\">\n      <th></th>\n      <th>YEAR</th>\n      <th>STATE</th>\n      <th>RATE</th>\n      <th>DEATHS</th>\n      <th>URL</th>\n    </tr>\n  </thead>\n  <tbody>\n    <tr>\n      <th>0</th>\n      <td>2018.0</td>\n      <td>AL</td>\n      <td>7.0</td>\n      <td>405</td>\n      <td>/nchs/pressroom/states/alabama/al.htm</td>\n    </tr>\n    <tr>\n      <th>1</th>\n      <td>2018.0</td>\n      <td>AK</td>\n      <td>5.9</td>\n      <td>60</td>\n      <td>/nchs/pressroom/states/alaska/ak.htm</td>\n    </tr>\n    <tr>\n      <th>2</th>\n      <td>2018.0</td>\n      <td>AZ</td>\n      <td>5.6</td>\n      <td>451</td>\n      <td>/nchs/pressroom/states/arizona/az.htm</td>\n    </tr>\n    <tr>\n      <th>3</th>\n      <td>2018.0</td>\n      <td>AR</td>\n      <td>7.5</td>\n      <td>279</td>\n      <td>/nchs/pressroom/states/arkansas/ar.htm</td>\n    </tr>\n    <tr>\n      <th>4</th>\n      <td>2018.0</td>\n      <td>CA</td>\n      <td>4.2</td>\n      <td>1909</td>\n      <td>/nchs/pressroom/states/california/ca.htm</td>\n    </tr>\n  </tbody>\n</table>\n</div>"
     },
     "metadata": {},
     "execution_count": 4
    }
   ],
   "source": [
    "infant_df_2018 = pd.read_csv(\"Infant_Mortality_Rates_by_State.csv\")\n",
    "infant_df_2018.head()"
   ]
  },
  {
   "cell_type": "code",
   "execution_count": 5,
   "metadata": {},
   "outputs": [],
   "source": [
    "infant_df_2018.insert(0, \"ID\", range(0, len(infant_df_2018)))"
   ]
  },
  {
   "cell_type": "code",
   "execution_count": 6,
   "metadata": {},
   "outputs": [
    {
     "output_type": "execute_result",
     "data": {
      "text/plain": "   ID    YEAR STATE  RATE DEATHS                                       URL\n0   0  2018.0    AL   7.0    405     /nchs/pressroom/states/alabama/al.htm\n1   1  2018.0    AK   5.9     60      /nchs/pressroom/states/alaska/ak.htm\n2   2  2018.0    AZ   5.6    451     /nchs/pressroom/states/arizona/az.htm\n3   3  2018.0    AR   7.5    279    /nchs/pressroom/states/arkansas/ar.htm\n4   4  2018.0    CA   4.2   1909  /nchs/pressroom/states/california/ca.htm",
      "text/html": "<div>\n<style scoped>\n    .dataframe tbody tr th:only-of-type {\n        vertical-align: middle;\n    }\n\n    .dataframe tbody tr th {\n        vertical-align: top;\n    }\n\n    .dataframe thead th {\n        text-align: right;\n    }\n</style>\n<table border=\"1\" class=\"dataframe\">\n  <thead>\n    <tr style=\"text-align: right;\">\n      <th></th>\n      <th>ID</th>\n      <th>YEAR</th>\n      <th>STATE</th>\n      <th>RATE</th>\n      <th>DEATHS</th>\n      <th>URL</th>\n    </tr>\n  </thead>\n  <tbody>\n    <tr>\n      <th>0</th>\n      <td>0</td>\n      <td>2018.0</td>\n      <td>AL</td>\n      <td>7.0</td>\n      <td>405</td>\n      <td>/nchs/pressroom/states/alabama/al.htm</td>\n    </tr>\n    <tr>\n      <th>1</th>\n      <td>1</td>\n      <td>2018.0</td>\n      <td>AK</td>\n      <td>5.9</td>\n      <td>60</td>\n      <td>/nchs/pressroom/states/alaska/ak.htm</td>\n    </tr>\n    <tr>\n      <th>2</th>\n      <td>2</td>\n      <td>2018.0</td>\n      <td>AZ</td>\n      <td>5.6</td>\n      <td>451</td>\n      <td>/nchs/pressroom/states/arizona/az.htm</td>\n    </tr>\n    <tr>\n      <th>3</th>\n      <td>3</td>\n      <td>2018.0</td>\n      <td>AR</td>\n      <td>7.5</td>\n      <td>279</td>\n      <td>/nchs/pressroom/states/arkansas/ar.htm</td>\n    </tr>\n    <tr>\n      <th>4</th>\n      <td>4</td>\n      <td>2018.0</td>\n      <td>CA</td>\n      <td>4.2</td>\n      <td>1909</td>\n      <td>/nchs/pressroom/states/california/ca.htm</td>\n    </tr>\n  </tbody>\n</table>\n</div>"
     },
     "metadata": {},
     "execution_count": 6
    }
   ],
   "source": [
    "infant_df_2018.head(\n",
    ")"
   ]
  },
  {
   "cell_type": "code",
   "execution_count": 9,
   "metadata": {},
   "outputs": [],
   "source": [
    "infant_df_2018_sorted = infant_df_2018.loc[infant_df_2018[\"YEAR\"] == 2018.0]"
   ]
  },
  {
   "cell_type": "code",
   "execution_count": 12,
   "metadata": {},
   "outputs": [],
   "source": [
    "conn = sqlite3.connect(db_file)"
   ]
  },
  {
   "cell_type": "code",
   "execution_count": 13,
   "metadata": {},
   "outputs": [],
   "source": [
    "infant_df_2018_sorted\n",
    "infant_df_2018_sorted.to_sql(\"infantlatest\", conn, if_exists='append', index=False)"
   ]
  },
  {
   "cell_type": "code",
   "execution_count": 15,
   "metadata": {},
   "outputs": [],
   "source": [
    "teen_df = pd.read_csv(\"Teen Birth Rate by State.csv\")"
   ]
  },
  {
   "cell_type": "code",
   "execution_count": 18,
   "metadata": {},
   "outputs": [],
   "source": [
    "teen_df.insert(0, \"ID\", range(0, len(teen_df)))"
   ]
  },
  {
   "cell_type": "code",
   "execution_count": 19,
   "metadata": {},
   "outputs": [
    {
     "output_type": "execute_result",
     "data": {
      "text/plain": "      ID    YEAR STATE  RATE  \\\n0      0  2018.0    AL  25.2   \n1      1  2018.0    AK  19.3   \n2      2  2018.0    AZ  20.1   \n3      3  2018.0    AR  30.4   \n4      4  2018.0    CA  13.6   \n..   ...     ...   ...   ...   \n296  296  2005.0    WA  31.1   \n297  297  2005.0    WV  43.4   \n298  298  2005.0    WI  30.3   \n299  299  2005.0    WY  43.2   \n300  300     NaN   NaN   NaN   \n\n                                                   URL  \n0                /nchs/pressroom/states/alabama/al.htm  \n1                 /nchs/pressroom/states/alaska/ak.htm  \n2                /nchs/pressroom/states/arizona/az.htm  \n3               /nchs/pressroom/states/arkansas/ar.htm  \n4             /nchs/pressroom/states/california/ca.htm  \n..                                                 ...  \n296   /nchs/pressroom/states/washington/washington.htm  \n297  /nchs/pressroom/states/westvirginia/westvirgin...  \n298     /nchs/pressroom/states/wisconsin/wisconsin.htm  \n299         /nchs/pressroom/states/wyoming/wyoming.htm  \n300                                                NaN  \n\n[301 rows x 5 columns]",
      "text/html": "<div>\n<style scoped>\n    .dataframe tbody tr th:only-of-type {\n        vertical-align: middle;\n    }\n\n    .dataframe tbody tr th {\n        vertical-align: top;\n    }\n\n    .dataframe thead th {\n        text-align: right;\n    }\n</style>\n<table border=\"1\" class=\"dataframe\">\n  <thead>\n    <tr style=\"text-align: right;\">\n      <th></th>\n      <th>ID</th>\n      <th>YEAR</th>\n      <th>STATE</th>\n      <th>RATE</th>\n      <th>URL</th>\n    </tr>\n  </thead>\n  <tbody>\n    <tr>\n      <th>0</th>\n      <td>0</td>\n      <td>2018.0</td>\n      <td>AL</td>\n      <td>25.2</td>\n      <td>/nchs/pressroom/states/alabama/al.htm</td>\n    </tr>\n    <tr>\n      <th>1</th>\n      <td>1</td>\n      <td>2018.0</td>\n      <td>AK</td>\n      <td>19.3</td>\n      <td>/nchs/pressroom/states/alaska/ak.htm</td>\n    </tr>\n    <tr>\n      <th>2</th>\n      <td>2</td>\n      <td>2018.0</td>\n      <td>AZ</td>\n      <td>20.1</td>\n      <td>/nchs/pressroom/states/arizona/az.htm</td>\n    </tr>\n    <tr>\n      <th>3</th>\n      <td>3</td>\n      <td>2018.0</td>\n      <td>AR</td>\n      <td>30.4</td>\n      <td>/nchs/pressroom/states/arkansas/ar.htm</td>\n    </tr>\n    <tr>\n      <th>4</th>\n      <td>4</td>\n      <td>2018.0</td>\n      <td>CA</td>\n      <td>13.6</td>\n      <td>/nchs/pressroom/states/california/ca.htm</td>\n    </tr>\n    <tr>\n      <th>...</th>\n      <td>...</td>\n      <td>...</td>\n      <td>...</td>\n      <td>...</td>\n      <td>...</td>\n    </tr>\n    <tr>\n      <th>296</th>\n      <td>296</td>\n      <td>2005.0</td>\n      <td>WA</td>\n      <td>31.1</td>\n      <td>/nchs/pressroom/states/washington/washington.htm</td>\n    </tr>\n    <tr>\n      <th>297</th>\n      <td>297</td>\n      <td>2005.0</td>\n      <td>WV</td>\n      <td>43.4</td>\n      <td>/nchs/pressroom/states/westvirginia/westvirgin...</td>\n    </tr>\n    <tr>\n      <th>298</th>\n      <td>298</td>\n      <td>2005.0</td>\n      <td>WI</td>\n      <td>30.3</td>\n      <td>/nchs/pressroom/states/wisconsin/wisconsin.htm</td>\n    </tr>\n    <tr>\n      <th>299</th>\n      <td>299</td>\n      <td>2005.0</td>\n      <td>WY</td>\n      <td>43.2</td>\n      <td>/nchs/pressroom/states/wyoming/wyoming.htm</td>\n    </tr>\n    <tr>\n      <th>300</th>\n      <td>300</td>\n      <td>NaN</td>\n      <td>NaN</td>\n      <td>NaN</td>\n      <td>NaN</td>\n    </tr>\n  </tbody>\n</table>\n<p>301 rows × 5 columns</p>\n</div>"
     },
     "metadata": {},
     "execution_count": 19
    }
   ],
   "source": [
    "teen_df"
   ]
  },
  {
   "cell_type": "code",
   "execution_count": 26,
   "metadata": {},
   "outputs": [],
   "source": [
    "teen2018_df = teen_df.loc[teen_df[\"YEAR\"] == 2018.0]"
   ]
  },
  {
   "cell_type": "code",
   "execution_count": 54,
   "metadata": {},
   "outputs": [
    {
     "output_type": "execute_result",
     "data": {
      "text/plain": "    ID    YEAR STATE  RATE                                          URL\n0    0  2018.0    AL  25.2        /nchs/pressroom/states/alabama/al.htm\n1    1  2018.0    AK  19.3         /nchs/pressroom/states/alaska/ak.htm\n2    2  2018.0    AZ  20.1        /nchs/pressroom/states/arizona/az.htm\n3    3  2018.0    AR  30.4       /nchs/pressroom/states/arkansas/ar.htm\n4    4  2018.0    CA  13.6     /nchs/pressroom/states/california/ca.htm\n5    5  2018.0    CO  14.3       /nchs/pressroom/states/colorado/co.htm\n6    6  2018.0    CT   8.3    /nchs/pressroom/states/connecticut/ct.htm\n7    7  2018.0    DE  16.7       /nchs/pressroom/states/delaware/de.htm\n8    8  2018.0    FL  16.7        /nchs/pressroom/states/florida/fl.htm\n9    9  2018.0    GA  20.6        /nchs/pressroom/states/georgia/ga.htm\n10  10  2018.0    HI  17.2         /nchs/pressroom/states/hawaii/hi.htm\n11  11  2018.0    ID  16.0          /nchs/pressroom/states/idaho/id.htm\n12  12  2018.0    IL  15.8       /nchs/pressroom/states/illinois/il.htm\n13  13  2018.0    IN  21.8        /nchs/pressroom/states/indiana/in.htm\n14  14  2018.0    IA  15.3           /nchs/pressroom/states/iowa/ia.htm\n15  15  2018.0    KS  20.0         /nchs/pressroom/states/kansas/ks.htm\n16  16  2018.0    KY  27.3       /nchs/pressroom/states/kentucky/ky.htm\n17  17  2018.0    LA  27.5      /nchs/pressroom/states/louisiana/la.htm\n18  18  2018.0    ME  11.1          /nchs/pressroom/states/maine/me.htm\n19  19  2018.0    MD  14.1       /nchs/pressroom/states/maryland/md.htm\n20  20  2018.0    MA   7.2  /nchs/pressroom/states/massachusetts/ma.htm\n21  21  2018.0    MI  15.8       /nchs/pressroom/states/michigan/mi.htm\n22  22  2018.0    MN  10.2      /nchs/pressroom/states/minnesota/mn.htm\n23  23  2018.0    MS  27.8    /nchs/pressroom/states/mississippi/ms.htm\n24  24  2018.0    MO  21.6       /nchs/pressroom/states/missouri/mo.htm\n25  25  2018.0    MT  17.2        /nchs/pressroom/states/montana/mt.htm\n26  26  2018.0    NE  16.7       /nchs/pressroom/states/nebraska/ne.htm\n27  27  2018.0    NV  20.5         /nchs/pressroom/states/nevada/nv.htm\n28  28  2018.0    NH   8.0   /nchs/pressroom/states/newhampshire/nh.htm\n29  29  2018.0    NJ  10.3      /nchs/pressroom/states/newjersey/nj.htm\n30  30  2018.0    NM  25.3      /nchs/pressroom/states/newmexico/nm.htm\n31  31  2018.0    NY  11.7        /nchs/pressroom/states/newyork/ny.htm\n32  32  2018.0    NC  18.7  /nchs/pressroom/states/northcarolina/nc.htm\n33  33  2018.0    ND  16.4    /nchs/pressroom/states/northdakota/nd.htm\n34  34  2018.0    OH  18.9           /nchs/pressroom/states/ohio/oh.htm\n35  35  2018.0    OK  27.2       /nchs/pressroom/states/oklahoma/ok.htm\n36  36  2018.0    OR  13.3         /nchs/pressroom/states/oregon/or.htm\n37  37  2018.0    PA  14.1   /nchs/pressroom/states/pennsylvania/pa.htm\n38  38  2018.0    RI  11.5    /nchs/pressroom/states/rhodeisland/ri.htm\n39  39  2018.0    SC  22.0  /nchs/pressroom/states/southcarolina/sc.htm\n40  40  2018.0    SD  20.4    /nchs/pressroom/states/southdakota/sd.htm\n41  41  2018.0    TN  25.3      /nchs/pressroom/states/tennessee/tn.htm\n42  42  2018.0    TX  25.3          /nchs/pressroom/states/texas/tx.htm\n43  43  2018.0    UT  13.1           /nchs/pressroom/states/utah/ut.htm\n44  44  2018.0    VT   8.8        /nchs/pressroom/states/vermont/vt.htm\n45  45  2018.0    VA  14.3       /nchs/pressroom/states/virginia/va.htm\n46  46  2018.0    WA  12.7     /nchs/pressroom/states/washington/wa.htm\n47  47  2018.0    WV  25.4   /nchs/pressroom/states/westvirginia/wv.htm\n48  48  2018.0    WI  13.0      /nchs/pressroom/states/wisconsin/wi.htm\n49  49  2018.0    WY  20.8        /nchs/pressroom/states/wyoming/wy.htm",
      "text/html": "<div>\n<style scoped>\n    .dataframe tbody tr th:only-of-type {\n        vertical-align: middle;\n    }\n\n    .dataframe tbody tr th {\n        vertical-align: top;\n    }\n\n    .dataframe thead th {\n        text-align: right;\n    }\n</style>\n<table border=\"1\" class=\"dataframe\">\n  <thead>\n    <tr style=\"text-align: right;\">\n      <th></th>\n      <th>ID</th>\n      <th>YEAR</th>\n      <th>STATE</th>\n      <th>RATE</th>\n      <th>URL</th>\n    </tr>\n  </thead>\n  <tbody>\n    <tr>\n      <th>0</th>\n      <td>0</td>\n      <td>2018.0</td>\n      <td>AL</td>\n      <td>25.2</td>\n      <td>/nchs/pressroom/states/alabama/al.htm</td>\n    </tr>\n    <tr>\n      <th>1</th>\n      <td>1</td>\n      <td>2018.0</td>\n      <td>AK</td>\n      <td>19.3</td>\n      <td>/nchs/pressroom/states/alaska/ak.htm</td>\n    </tr>\n    <tr>\n      <th>2</th>\n      <td>2</td>\n      <td>2018.0</td>\n      <td>AZ</td>\n      <td>20.1</td>\n      <td>/nchs/pressroom/states/arizona/az.htm</td>\n    </tr>\n    <tr>\n      <th>3</th>\n      <td>3</td>\n      <td>2018.0</td>\n      <td>AR</td>\n      <td>30.4</td>\n      <td>/nchs/pressroom/states/arkansas/ar.htm</td>\n    </tr>\n    <tr>\n      <th>4</th>\n      <td>4</td>\n      <td>2018.0</td>\n      <td>CA</td>\n      <td>13.6</td>\n      <td>/nchs/pressroom/states/california/ca.htm</td>\n    </tr>\n    <tr>\n      <th>5</th>\n      <td>5</td>\n      <td>2018.0</td>\n      <td>CO</td>\n      <td>14.3</td>\n      <td>/nchs/pressroom/states/colorado/co.htm</td>\n    </tr>\n    <tr>\n      <th>6</th>\n      <td>6</td>\n      <td>2018.0</td>\n      <td>CT</td>\n      <td>8.3</td>\n      <td>/nchs/pressroom/states/connecticut/ct.htm</td>\n    </tr>\n    <tr>\n      <th>7</th>\n      <td>7</td>\n      <td>2018.0</td>\n      <td>DE</td>\n      <td>16.7</td>\n      <td>/nchs/pressroom/states/delaware/de.htm</td>\n    </tr>\n    <tr>\n      <th>8</th>\n      <td>8</td>\n      <td>2018.0</td>\n      <td>FL</td>\n      <td>16.7</td>\n      <td>/nchs/pressroom/states/florida/fl.htm</td>\n    </tr>\n    <tr>\n      <th>9</th>\n      <td>9</td>\n      <td>2018.0</td>\n      <td>GA</td>\n      <td>20.6</td>\n      <td>/nchs/pressroom/states/georgia/ga.htm</td>\n    </tr>\n    <tr>\n      <th>10</th>\n      <td>10</td>\n      <td>2018.0</td>\n      <td>HI</td>\n      <td>17.2</td>\n      <td>/nchs/pressroom/states/hawaii/hi.htm</td>\n    </tr>\n    <tr>\n      <th>11</th>\n      <td>11</td>\n      <td>2018.0</td>\n      <td>ID</td>\n      <td>16.0</td>\n      <td>/nchs/pressroom/states/idaho/id.htm</td>\n    </tr>\n    <tr>\n      <th>12</th>\n      <td>12</td>\n      <td>2018.0</td>\n      <td>IL</td>\n      <td>15.8</td>\n      <td>/nchs/pressroom/states/illinois/il.htm</td>\n    </tr>\n    <tr>\n      <th>13</th>\n      <td>13</td>\n      <td>2018.0</td>\n      <td>IN</td>\n      <td>21.8</td>\n      <td>/nchs/pressroom/states/indiana/in.htm</td>\n    </tr>\n    <tr>\n      <th>14</th>\n      <td>14</td>\n      <td>2018.0</td>\n      <td>IA</td>\n      <td>15.3</td>\n      <td>/nchs/pressroom/states/iowa/ia.htm</td>\n    </tr>\n    <tr>\n      <th>15</th>\n      <td>15</td>\n      <td>2018.0</td>\n      <td>KS</td>\n      <td>20.0</td>\n      <td>/nchs/pressroom/states/kansas/ks.htm</td>\n    </tr>\n    <tr>\n      <th>16</th>\n      <td>16</td>\n      <td>2018.0</td>\n      <td>KY</td>\n      <td>27.3</td>\n      <td>/nchs/pressroom/states/kentucky/ky.htm</td>\n    </tr>\n    <tr>\n      <th>17</th>\n      <td>17</td>\n      <td>2018.0</td>\n      <td>LA</td>\n      <td>27.5</td>\n      <td>/nchs/pressroom/states/louisiana/la.htm</td>\n    </tr>\n    <tr>\n      <th>18</th>\n      <td>18</td>\n      <td>2018.0</td>\n      <td>ME</td>\n      <td>11.1</td>\n      <td>/nchs/pressroom/states/maine/me.htm</td>\n    </tr>\n    <tr>\n      <th>19</th>\n      <td>19</td>\n      <td>2018.0</td>\n      <td>MD</td>\n      <td>14.1</td>\n      <td>/nchs/pressroom/states/maryland/md.htm</td>\n    </tr>\n    <tr>\n      <th>20</th>\n      <td>20</td>\n      <td>2018.0</td>\n      <td>MA</td>\n      <td>7.2</td>\n      <td>/nchs/pressroom/states/massachusetts/ma.htm</td>\n    </tr>\n    <tr>\n      <th>21</th>\n      <td>21</td>\n      <td>2018.0</td>\n      <td>MI</td>\n      <td>15.8</td>\n      <td>/nchs/pressroom/states/michigan/mi.htm</td>\n    </tr>\n    <tr>\n      <th>22</th>\n      <td>22</td>\n      <td>2018.0</td>\n      <td>MN</td>\n      <td>10.2</td>\n      <td>/nchs/pressroom/states/minnesota/mn.htm</td>\n    </tr>\n    <tr>\n      <th>23</th>\n      <td>23</td>\n      <td>2018.0</td>\n      <td>MS</td>\n      <td>27.8</td>\n      <td>/nchs/pressroom/states/mississippi/ms.htm</td>\n    </tr>\n    <tr>\n      <th>24</th>\n      <td>24</td>\n      <td>2018.0</td>\n      <td>MO</td>\n      <td>21.6</td>\n      <td>/nchs/pressroom/states/missouri/mo.htm</td>\n    </tr>\n    <tr>\n      <th>25</th>\n      <td>25</td>\n      <td>2018.0</td>\n      <td>MT</td>\n      <td>17.2</td>\n      <td>/nchs/pressroom/states/montana/mt.htm</td>\n    </tr>\n    <tr>\n      <th>26</th>\n      <td>26</td>\n      <td>2018.0</td>\n      <td>NE</td>\n      <td>16.7</td>\n      <td>/nchs/pressroom/states/nebraska/ne.htm</td>\n    </tr>\n    <tr>\n      <th>27</th>\n      <td>27</td>\n      <td>2018.0</td>\n      <td>NV</td>\n      <td>20.5</td>\n      <td>/nchs/pressroom/states/nevada/nv.htm</td>\n    </tr>\n    <tr>\n      <th>28</th>\n      <td>28</td>\n      <td>2018.0</td>\n      <td>NH</td>\n      <td>8.0</td>\n      <td>/nchs/pressroom/states/newhampshire/nh.htm</td>\n    </tr>\n    <tr>\n      <th>29</th>\n      <td>29</td>\n      <td>2018.0</td>\n      <td>NJ</td>\n      <td>10.3</td>\n      <td>/nchs/pressroom/states/newjersey/nj.htm</td>\n    </tr>\n    <tr>\n      <th>30</th>\n      <td>30</td>\n      <td>2018.0</td>\n      <td>NM</td>\n      <td>25.3</td>\n      <td>/nchs/pressroom/states/newmexico/nm.htm</td>\n    </tr>\n    <tr>\n      <th>31</th>\n      <td>31</td>\n      <td>2018.0</td>\n      <td>NY</td>\n      <td>11.7</td>\n      <td>/nchs/pressroom/states/newyork/ny.htm</td>\n    </tr>\n    <tr>\n      <th>32</th>\n      <td>32</td>\n      <td>2018.0</td>\n      <td>NC</td>\n      <td>18.7</td>\n      <td>/nchs/pressroom/states/northcarolina/nc.htm</td>\n    </tr>\n    <tr>\n      <th>33</th>\n      <td>33</td>\n      <td>2018.0</td>\n      <td>ND</td>\n      <td>16.4</td>\n      <td>/nchs/pressroom/states/northdakota/nd.htm</td>\n    </tr>\n    <tr>\n      <th>34</th>\n      <td>34</td>\n      <td>2018.0</td>\n      <td>OH</td>\n      <td>18.9</td>\n      <td>/nchs/pressroom/states/ohio/oh.htm</td>\n    </tr>\n    <tr>\n      <th>35</th>\n      <td>35</td>\n      <td>2018.0</td>\n      <td>OK</td>\n      <td>27.2</td>\n      <td>/nchs/pressroom/states/oklahoma/ok.htm</td>\n    </tr>\n    <tr>\n      <th>36</th>\n      <td>36</td>\n      <td>2018.0</td>\n      <td>OR</td>\n      <td>13.3</td>\n      <td>/nchs/pressroom/states/oregon/or.htm</td>\n    </tr>\n    <tr>\n      <th>37</th>\n      <td>37</td>\n      <td>2018.0</td>\n      <td>PA</td>\n      <td>14.1</td>\n      <td>/nchs/pressroom/states/pennsylvania/pa.htm</td>\n    </tr>\n    <tr>\n      <th>38</th>\n      <td>38</td>\n      <td>2018.0</td>\n      <td>RI</td>\n      <td>11.5</td>\n      <td>/nchs/pressroom/states/rhodeisland/ri.htm</td>\n    </tr>\n    <tr>\n      <th>39</th>\n      <td>39</td>\n      <td>2018.0</td>\n      <td>SC</td>\n      <td>22.0</td>\n      <td>/nchs/pressroom/states/southcarolina/sc.htm</td>\n    </tr>\n    <tr>\n      <th>40</th>\n      <td>40</td>\n      <td>2018.0</td>\n      <td>SD</td>\n      <td>20.4</td>\n      <td>/nchs/pressroom/states/southdakota/sd.htm</td>\n    </tr>\n    <tr>\n      <th>41</th>\n      <td>41</td>\n      <td>2018.0</td>\n      <td>TN</td>\n      <td>25.3</td>\n      <td>/nchs/pressroom/states/tennessee/tn.htm</td>\n    </tr>\n    <tr>\n      <th>42</th>\n      <td>42</td>\n      <td>2018.0</td>\n      <td>TX</td>\n      <td>25.3</td>\n      <td>/nchs/pressroom/states/texas/tx.htm</td>\n    </tr>\n    <tr>\n      <th>43</th>\n      <td>43</td>\n      <td>2018.0</td>\n      <td>UT</td>\n      <td>13.1</td>\n      <td>/nchs/pressroom/states/utah/ut.htm</td>\n    </tr>\n    <tr>\n      <th>44</th>\n      <td>44</td>\n      <td>2018.0</td>\n      <td>VT</td>\n      <td>8.8</td>\n      <td>/nchs/pressroom/states/vermont/vt.htm</td>\n    </tr>\n    <tr>\n      <th>45</th>\n      <td>45</td>\n      <td>2018.0</td>\n      <td>VA</td>\n      <td>14.3</td>\n      <td>/nchs/pressroom/states/virginia/va.htm</td>\n    </tr>\n    <tr>\n      <th>46</th>\n      <td>46</td>\n      <td>2018.0</td>\n      <td>WA</td>\n      <td>12.7</td>\n      <td>/nchs/pressroom/states/washington/wa.htm</td>\n    </tr>\n    <tr>\n      <th>47</th>\n      <td>47</td>\n      <td>2018.0</td>\n      <td>WV</td>\n      <td>25.4</td>\n      <td>/nchs/pressroom/states/westvirginia/wv.htm</td>\n    </tr>\n    <tr>\n      <th>48</th>\n      <td>48</td>\n      <td>2018.0</td>\n      <td>WI</td>\n      <td>13.0</td>\n      <td>/nchs/pressroom/states/wisconsin/wi.htm</td>\n    </tr>\n    <tr>\n      <th>49</th>\n      <td>49</td>\n      <td>2018.0</td>\n      <td>WY</td>\n      <td>20.8</td>\n      <td>/nchs/pressroom/states/wyoming/wy.htm</td>\n    </tr>\n  </tbody>\n</table>\n</div>"
     },
     "metadata": {},
     "execution_count": 54
    }
   ],
   "source": [
    "teen2018_df"
   ]
  },
  {
   "cell_type": "code",
   "execution_count": 28,
   "metadata": {},
   "outputs": [],
   "source": [
    "conn = sqlite3.connect(db_file)"
   ]
  },
  {
   "cell_type": "code",
   "execution_count": 29,
   "metadata": {},
   "outputs": [],
   "source": [
    "teen2018_df.to_sql(\"teen2018\", conn, if_exists='append', index=False)"
   ]
  },
  {
   "cell_type": "code",
   "execution_count": 31,
   "metadata": {},
   "outputs": [],
   "source": [
    "conn.close()"
   ]
  },
  {
   "cell_type": "code",
   "execution_count": 33,
   "metadata": {},
   "outputs": [],
   "source": [
    "unmarried2_df = pd.read_csv(\"Unmarried Mothers by State.csv\")"
   ]
  },
  {
   "cell_type": "code",
   "execution_count": 34,
   "metadata": {},
   "outputs": [],
   "source": [
    "unmarried2_df.insert(0, \"ID\", range(0, len(unmarried2_df)))"
   ]
  },
  {
   "cell_type": "code",
   "execution_count": 35,
   "metadata": {},
   "outputs": [],
   "source": [
    "unmarried2018_df = unmarried2_df.loc[unmarried2_df[\"YEAR\"] == 2018.0]"
   ]
  },
  {
   "cell_type": "code",
   "execution_count": 38,
   "metadata": {},
   "outputs": [
    {
     "output_type": "execute_result",
     "data": {
      "text/plain": "   ID    YEAR STATE  RATE                                       URL\n0   0  2018.0    AL  46.8     /nchs/pressroom/states/alabama/al.htm\n1   1  2018.0    AK  35.3      /nchs/pressroom/states/alaska/ak.htm\n2   2  2018.0    AZ  44.9     /nchs/pressroom/states/arizona/az.htm\n3   3  2018.0    AR  45.4    /nchs/pressroom/states/arkansas/ar.htm\n4   4  2018.0    CA  37.1  /nchs/pressroom/states/california/ca.htm",
      "text/html": "<div>\n<style scoped>\n    .dataframe tbody tr th:only-of-type {\n        vertical-align: middle;\n    }\n\n    .dataframe tbody tr th {\n        vertical-align: top;\n    }\n\n    .dataframe thead th {\n        text-align: right;\n    }\n</style>\n<table border=\"1\" class=\"dataframe\">\n  <thead>\n    <tr style=\"text-align: right;\">\n      <th></th>\n      <th>ID</th>\n      <th>YEAR</th>\n      <th>STATE</th>\n      <th>RATE</th>\n      <th>URL</th>\n    </tr>\n  </thead>\n  <tbody>\n    <tr>\n      <th>0</th>\n      <td>0</td>\n      <td>2018.0</td>\n      <td>AL</td>\n      <td>46.8</td>\n      <td>/nchs/pressroom/states/alabama/al.htm</td>\n    </tr>\n    <tr>\n      <th>1</th>\n      <td>1</td>\n      <td>2018.0</td>\n      <td>AK</td>\n      <td>35.3</td>\n      <td>/nchs/pressroom/states/alaska/ak.htm</td>\n    </tr>\n    <tr>\n      <th>2</th>\n      <td>2</td>\n      <td>2018.0</td>\n      <td>AZ</td>\n      <td>44.9</td>\n      <td>/nchs/pressroom/states/arizona/az.htm</td>\n    </tr>\n    <tr>\n      <th>3</th>\n      <td>3</td>\n      <td>2018.0</td>\n      <td>AR</td>\n      <td>45.4</td>\n      <td>/nchs/pressroom/states/arkansas/ar.htm</td>\n    </tr>\n    <tr>\n      <th>4</th>\n      <td>4</td>\n      <td>2018.0</td>\n      <td>CA</td>\n      <td>37.1</td>\n      <td>/nchs/pressroom/states/california/ca.htm</td>\n    </tr>\n  </tbody>\n</table>\n</div>"
     },
     "metadata": {},
     "execution_count": 38
    }
   ],
   "source": [
    "unmarried2018_df.head()"
   ]
  },
  {
   "cell_type": "code",
   "execution_count": 40,
   "metadata": {},
   "outputs": [],
   "source": [
    "conn = sqlite3.connect(db_file)"
   ]
  },
  {
   "cell_type": "code",
   "execution_count": 41,
   "metadata": {},
   "outputs": [],
   "source": [
    "unmarried2018_df.to_sql(\"unmarried2018\", conn, if_exists='append', index=False)"
   ]
  },
  {
   "cell_type": "code",
   "execution_count": 42,
   "metadata": {},
   "outputs": [],
   "source": [
    "conn.close()"
   ]
  },
  {
   "cell_type": "code",
   "execution_count": 45,
   "metadata": {},
   "outputs": [],
   "source": [
    "birthweight_df = pd.read_csv(\"Low Birthweight by State.csv\")"
   ]
  },
  {
   "cell_type": "code",
   "execution_count": 46,
   "metadata": {},
   "outputs": [],
   "source": [
    "birthweight_df.insert(0, \"ID\", range(0, len(birthweight_df)))"
   ]
  },
  {
   "cell_type": "code",
   "execution_count": 47,
   "metadata": {},
   "outputs": [],
   "source": [
    "birthweight2018_df = birthweight_df.loc[birthweight_df[\"YEAR\"] == 2018.0]"
   ]
  },
  {
   "cell_type": "code",
   "execution_count": 48,
   "metadata": {},
   "outputs": [
    {
     "output_type": "execute_result",
     "data": {
      "text/plain": "   ID    YEAR STATE  RATE                                               URL\n0   0  2018.0    AL  10.7        /nchs/pressroom/states/alabama/alabama.htm\n1   1  2018.0    AK   5.9          /nchs/pressroom/states/alaska/alaska.htm\n2   2  2018.0    AZ   7.6        /nchs/pressroom/states/arizona/arizona.htm\n3   3  2018.0    AR   9.4      /nchs/pressroom/states/arkansas/arkansas.htm\n4   4  2018.0    CA   7.0  /nchs/pressroom/states/california/california.htm",
      "text/html": "<div>\n<style scoped>\n    .dataframe tbody tr th:only-of-type {\n        vertical-align: middle;\n    }\n\n    .dataframe tbody tr th {\n        vertical-align: top;\n    }\n\n    .dataframe thead th {\n        text-align: right;\n    }\n</style>\n<table border=\"1\" class=\"dataframe\">\n  <thead>\n    <tr style=\"text-align: right;\">\n      <th></th>\n      <th>ID</th>\n      <th>YEAR</th>\n      <th>STATE</th>\n      <th>RATE</th>\n      <th>URL</th>\n    </tr>\n  </thead>\n  <tbody>\n    <tr>\n      <th>0</th>\n      <td>0</td>\n      <td>2018.0</td>\n      <td>AL</td>\n      <td>10.7</td>\n      <td>/nchs/pressroom/states/alabama/alabama.htm</td>\n    </tr>\n    <tr>\n      <th>1</th>\n      <td>1</td>\n      <td>2018.0</td>\n      <td>AK</td>\n      <td>5.9</td>\n      <td>/nchs/pressroom/states/alaska/alaska.htm</td>\n    </tr>\n    <tr>\n      <th>2</th>\n      <td>2</td>\n      <td>2018.0</td>\n      <td>AZ</td>\n      <td>7.6</td>\n      <td>/nchs/pressroom/states/arizona/arizona.htm</td>\n    </tr>\n    <tr>\n      <th>3</th>\n      <td>3</td>\n      <td>2018.0</td>\n      <td>AR</td>\n      <td>9.4</td>\n      <td>/nchs/pressroom/states/arkansas/arkansas.htm</td>\n    </tr>\n    <tr>\n      <th>4</th>\n      <td>4</td>\n      <td>2018.0</td>\n      <td>CA</td>\n      <td>7.0</td>\n      <td>/nchs/pressroom/states/california/california.htm</td>\n    </tr>\n  </tbody>\n</table>\n</div>"
     },
     "metadata": {},
     "execution_count": 48
    }
   ],
   "source": [
    "birthweight_df.head(\n",
    ")"
   ]
  },
  {
   "cell_type": "code",
   "execution_count": 50,
   "metadata": {},
   "outputs": [],
   "source": [
    "conn = sqlite3.connect(db_file)"
   ]
  },
  {
   "cell_type": "code",
   "execution_count": 51,
   "metadata": {},
   "outputs": [],
   "source": [
    "birthweight2018_df.to_sql(\"birthweight2018\", conn, if_exists='append', index=False)"
   ]
  },
  {
   "cell_type": "code",
   "execution_count": 52,
   "metadata": {},
   "outputs": [],
   "source": [
    "conn.close()"
   ]
  },
  {
   "cell_type": "code",
   "execution_count": null,
   "metadata": {},
   "outputs": [],
   "source": []
  }
 ],
 "metadata": {
  "kernelspec": {
   "display_name": "Python 3",
   "language": "python",
   "name": "python3"
  },
  "language_info": {
   "codemirror_mode": {
    "name": "ipython",
    "version": 3
   },
   "file_extension": ".py",
   "mimetype": "text/x-python",
   "name": "python",
   "nbconvert_exporter": "python",
   "pygments_lexer": "ipython3",
   "version": "3.7.4"
  }
 },
 "nbformat": 4,
 "nbformat_minor": 2
}